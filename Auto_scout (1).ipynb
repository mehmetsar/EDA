{
 "cells": [
  {
   "cell_type": "code",
   "execution_count": 1,
   "id": "44a9eebc",
   "metadata": {},
   "outputs": [],
   "source": [
    "import numpy as np\n",
    "import pandas as pd\n",
    "import matplotlib.pyplot as plt\n",
    "import seaborn as sns\n",
    "import regex as re\n",
    "import string as str\n"
   ]
  },
  {
   "cell_type": "code",
   "execution_count": 2,
   "id": "9a170f2b",
   "metadata": {},
   "outputs": [],
   "source": [
    "df = pd.read_json(\"scout_car.json\",  lines=True)\n",
    "# we have to read this file line by line"
   ]
  },
  {
   "cell_type": "code",
   "execution_count": 3,
   "id": "d21f8067",
   "metadata": {},
   "outputs": [
    {
     "data": {
      "text/html": [
       "<div>\n",
       "<style scoped>\n",
       "    .dataframe tbody tr th:only-of-type {\n",
       "        vertical-align: middle;\n",
       "    }\n",
       "\n",
       "    .dataframe tbody tr th {\n",
       "        vertical-align: top;\n",
       "    }\n",
       "\n",
       "    .dataframe thead th {\n",
       "        text-align: right;\n",
       "    }\n",
       "</style>\n",
       "<table border=\"1\" class=\"dataframe\">\n",
       "  <thead>\n",
       "    <tr style=\"text-align: right;\">\n",
       "      <th></th>\n",
       "      <th>url</th>\n",
       "      <th>make_model</th>\n",
       "      <th>short_description</th>\n",
       "      <th>body_type</th>\n",
       "      <th>price</th>\n",
       "      <th>vat</th>\n",
       "      <th>km</th>\n",
       "      <th>registration</th>\n",
       "      <th>prev_owner</th>\n",
       "      <th>kW</th>\n",
       "      <th>...</th>\n",
       "      <th>description</th>\n",
       "      <th>Emission Label</th>\n",
       "      <th>Gears</th>\n",
       "      <th>Country version</th>\n",
       "      <th>Electricity consumption</th>\n",
       "      <th>Last Service Date</th>\n",
       "      <th>Other Fuel Types</th>\n",
       "      <th>Availability</th>\n",
       "      <th>Last Timing Belt Service Date</th>\n",
       "      <th>Available from</th>\n",
       "    </tr>\n",
       "  </thead>\n",
       "  <tbody>\n",
       "    <tr>\n",
       "      <th>0</th>\n",
       "      <td>https://www.autoscout24.com//offers/audi-a1-sp...</td>\n",
       "      <td>Audi A1</td>\n",
       "      <td>Sportback 1.4 TDI S-tronic Xenon Navi Klima</td>\n",
       "      <td>Sedans</td>\n",
       "      <td>15770</td>\n",
       "      <td>VAT deductible</td>\n",
       "      <td>56,013 km</td>\n",
       "      <td>01/2016</td>\n",
       "      <td>2 previous owners</td>\n",
       "      <td>NaN</td>\n",
       "      <td>...</td>\n",
       "      <td>[\\n, Sicherheit:,  , Deaktivierung für Beifahr...</td>\n",
       "      <td>NaN</td>\n",
       "      <td>NaN</td>\n",
       "      <td>NaN</td>\n",
       "      <td>NaN</td>\n",
       "      <td>NaN</td>\n",
       "      <td>NaN</td>\n",
       "      <td>NaN</td>\n",
       "      <td>NaN</td>\n",
       "      <td>NaN</td>\n",
       "    </tr>\n",
       "    <tr>\n",
       "      <th>1</th>\n",
       "      <td>https://www.autoscout24.com//offers/audi-a1-1-...</td>\n",
       "      <td>Audi A1</td>\n",
       "      <td>1.8 TFSI sport</td>\n",
       "      <td>Sedans</td>\n",
       "      <td>14500</td>\n",
       "      <td>Price negotiable</td>\n",
       "      <td>80,000 km</td>\n",
       "      <td>03/2017</td>\n",
       "      <td>None</td>\n",
       "      <td>NaN</td>\n",
       "      <td>...</td>\n",
       "      <td>[\\nLangstreckenfahrzeug daher die hohe Kilomet...</td>\n",
       "      <td>[\\n4 (Green)\\n]</td>\n",
       "      <td>[\\n7\\n]</td>\n",
       "      <td>NaN</td>\n",
       "      <td>NaN</td>\n",
       "      <td>NaN</td>\n",
       "      <td>NaN</td>\n",
       "      <td>NaN</td>\n",
       "      <td>NaN</td>\n",
       "      <td>NaN</td>\n",
       "    </tr>\n",
       "    <tr>\n",
       "      <th>2</th>\n",
       "      <td>https://www.autoscout24.com//offers/audi-a1-sp...</td>\n",
       "      <td>Audi A1</td>\n",
       "      <td>Sportback 1.6 TDI S tronic Einparkhilfe plus+m...</td>\n",
       "      <td>Sedans</td>\n",
       "      <td>14640</td>\n",
       "      <td>VAT deductible</td>\n",
       "      <td>83,450 km</td>\n",
       "      <td>02/2016</td>\n",
       "      <td>1 previous owner</td>\n",
       "      <td>NaN</td>\n",
       "      <td>...</td>\n",
       "      <td>[\\n, Fahrzeug-Nummer: AM-95365,  , Ehem. UPE 2...</td>\n",
       "      <td>[\\n4 (Green)\\n]</td>\n",
       "      <td>NaN</td>\n",
       "      <td>NaN</td>\n",
       "      <td>NaN</td>\n",
       "      <td>NaN</td>\n",
       "      <td>NaN</td>\n",
       "      <td>NaN</td>\n",
       "      <td>NaN</td>\n",
       "      <td>NaN</td>\n",
       "    </tr>\n",
       "    <tr>\n",
       "      <th>3</th>\n",
       "      <td>https://www.autoscout24.com//offers/audi-a1-1-...</td>\n",
       "      <td>Audi A1</td>\n",
       "      <td>1.4 TDi Design S tronic</td>\n",
       "      <td>Sedans</td>\n",
       "      <td>14500</td>\n",
       "      <td>None</td>\n",
       "      <td>73,000 km</td>\n",
       "      <td>08/2016</td>\n",
       "      <td>1 previous owner</td>\n",
       "      <td>NaN</td>\n",
       "      <td>...</td>\n",
       "      <td>[\\nAudi A1: , - 1e eigenaar , - Perfecte staat...</td>\n",
       "      <td>NaN</td>\n",
       "      <td>[\\n6\\n]</td>\n",
       "      <td>NaN</td>\n",
       "      <td>NaN</td>\n",
       "      <td>NaN</td>\n",
       "      <td>NaN</td>\n",
       "      <td>NaN</td>\n",
       "      <td>NaN</td>\n",
       "      <td>NaN</td>\n",
       "    </tr>\n",
       "    <tr>\n",
       "      <th>4</th>\n",
       "      <td>https://www.autoscout24.com//offers/audi-a1-sp...</td>\n",
       "      <td>Audi A1</td>\n",
       "      <td>Sportback 1.4 TDI S-Tronic S-Line Ext. admired...</td>\n",
       "      <td>Sedans</td>\n",
       "      <td>16790</td>\n",
       "      <td>None</td>\n",
       "      <td>16,200 km</td>\n",
       "      <td>05/2016</td>\n",
       "      <td>1 previous owner</td>\n",
       "      <td>NaN</td>\n",
       "      <td>...</td>\n",
       "      <td>[\\n, Technik &amp; Sicherheit:, Xenon plus, Klimaa...</td>\n",
       "      <td>NaN</td>\n",
       "      <td>NaN</td>\n",
       "      <td>[\\nGermany\\n]</td>\n",
       "      <td>NaN</td>\n",
       "      <td>NaN</td>\n",
       "      <td>NaN</td>\n",
       "      <td>NaN</td>\n",
       "      <td>NaN</td>\n",
       "      <td>NaN</td>\n",
       "    </tr>\n",
       "  </tbody>\n",
       "</table>\n",
       "<p>5 rows × 54 columns</p>\n",
       "</div>"
      ],
      "text/plain": [
       "                                                 url make_model  \\\n",
       "0  https://www.autoscout24.com//offers/audi-a1-sp...    Audi A1   \n",
       "1  https://www.autoscout24.com//offers/audi-a1-1-...    Audi A1   \n",
       "2  https://www.autoscout24.com//offers/audi-a1-sp...    Audi A1   \n",
       "3  https://www.autoscout24.com//offers/audi-a1-1-...    Audi A1   \n",
       "4  https://www.autoscout24.com//offers/audi-a1-sp...    Audi A1   \n",
       "\n",
       "                                   short_description body_type  price  \\\n",
       "0        Sportback 1.4 TDI S-tronic Xenon Navi Klima    Sedans  15770   \n",
       "1                                     1.8 TFSI sport    Sedans  14500   \n",
       "2  Sportback 1.6 TDI S tronic Einparkhilfe plus+m...    Sedans  14640   \n",
       "3                            1.4 TDi Design S tronic    Sedans  14500   \n",
       "4  Sportback 1.4 TDI S-Tronic S-Line Ext. admired...    Sedans  16790   \n",
       "\n",
       "                vat         km registration         prev_owner  kW  ...  \\\n",
       "0    VAT deductible  56,013 km      01/2016  2 previous owners NaN  ...   \n",
       "1  Price negotiable  80,000 km      03/2017               None NaN  ...   \n",
       "2    VAT deductible  83,450 km      02/2016   1 previous owner NaN  ...   \n",
       "3              None  73,000 km      08/2016   1 previous owner NaN  ...   \n",
       "4              None  16,200 km      05/2016   1 previous owner NaN  ...   \n",
       "\n",
       "                                         description   Emission Label  \\\n",
       "0  [\\n, Sicherheit:,  , Deaktivierung für Beifahr...              NaN   \n",
       "1  [\\nLangstreckenfahrzeug daher die hohe Kilomet...  [\\n4 (Green)\\n]   \n",
       "2  [\\n, Fahrzeug-Nummer: AM-95365,  , Ehem. UPE 2...  [\\n4 (Green)\\n]   \n",
       "3  [\\nAudi A1: , - 1e eigenaar , - Perfecte staat...              NaN   \n",
       "4  [\\n, Technik & Sicherheit:, Xenon plus, Klimaa...              NaN   \n",
       "\n",
       "     Gears Country version Electricity consumption Last Service Date  \\\n",
       "0      NaN             NaN                     NaN               NaN   \n",
       "1  [\\n7\\n]             NaN                     NaN               NaN   \n",
       "2      NaN             NaN                     NaN               NaN   \n",
       "3  [\\n6\\n]             NaN                     NaN               NaN   \n",
       "4      NaN   [\\nGermany\\n]                     NaN               NaN   \n",
       "\n",
       "  Other Fuel Types Availability Last Timing Belt Service Date Available from  \n",
       "0              NaN          NaN                           NaN            NaN  \n",
       "1              NaN          NaN                           NaN            NaN  \n",
       "2              NaN          NaN                           NaN            NaN  \n",
       "3              NaN          NaN                           NaN            NaN  \n",
       "4              NaN          NaN                           NaN            NaN  \n",
       "\n",
       "[5 rows x 54 columns]"
      ]
     },
     "execution_count": 3,
     "metadata": {},
     "output_type": "execute_result"
    }
   ],
   "source": [
    "df.head()"
   ]
  },
  {
   "cell_type": "markdown",
   "id": "498f105a",
   "metadata": {},
   "source": [
    "Vat stands for value added tax which is generally 20 percent of cars."
   ]
  },
  {
   "cell_type": "code",
   "execution_count": 4,
   "id": "127571fb",
   "metadata": {},
   "outputs": [
    {
     "name": "stdout",
     "output_type": "stream",
     "text": [
      "<class 'pandas.core.frame.DataFrame'>\n",
      "RangeIndex: 15919 entries, 0 to 15918\n",
      "Data columns (total 54 columns):\n",
      " #   Column                         Non-Null Count  Dtype  \n",
      "---  ------                         --------------  -----  \n",
      " 0   url                            15919 non-null  object \n",
      " 1   make_model                     15919 non-null  object \n",
      " 2   short_description              15873 non-null  object \n",
      " 3   body_type                      15859 non-null  object \n",
      " 4   price                          15919 non-null  int64  \n",
      " 5   vat                            11406 non-null  object \n",
      " 6   km                             15919 non-null  object \n",
      " 7   registration                   15919 non-null  object \n",
      " 8   prev_owner                     9091 non-null   object \n",
      " 9   kW                             0 non-null      float64\n",
      " 10  hp                             15919 non-null  object \n",
      " 11  Type                           15917 non-null  object \n",
      " 12  Previous Owners                9279 non-null   object \n",
      " 13  Next Inspection                3535 non-null   object \n",
      " 14  Inspection new                 3932 non-null   object \n",
      " 15  Warranty                       10499 non-null  object \n",
      " 16  Full Service                   8215 non-null   object \n",
      " 17  Non-smoking Vehicle            7177 non-null   object \n",
      " 18  null                           15919 non-null  object \n",
      " 19  Make                           15919 non-null  object \n",
      " 20  Model                          15919 non-null  object \n",
      " 21  Offer Number                   12744 non-null  object \n",
      " 22  First Registration             14322 non-null  object \n",
      " 23  Body Color                     15322 non-null  object \n",
      " 24  Paint Type                     10147 non-null  object \n",
      " 25  Body Color Original            12160 non-null  object \n",
      " 26  Upholstery                     12199 non-null  object \n",
      " 27  Body                           15859 non-null  object \n",
      " 28  Nr. of Doors                   15707 non-null  object \n",
      " 29  Nr. of Seats                   14942 non-null  object \n",
      " 30  Model Code                     4978 non-null   object \n",
      " 31  Gearing Type                   15919 non-null  object \n",
      " 32  Displacement                   15423 non-null  object \n",
      " 33  Cylinders                      10239 non-null  object \n",
      " 34  Weight                         8945 non-null   object \n",
      " 35  Drive chain                    9061 non-null   object \n",
      " 36  Fuel                           15919 non-null  object \n",
      " 37  Consumption                    14013 non-null  object \n",
      " 38  CO2 Emission                   14111 non-null  object \n",
      " 39  Emission Class                 12898 non-null  object \n",
      " 40  \n",
      "Comfort & Convenience\n",
      "        14999 non-null  object \n",
      " 41  \n",
      "Entertainment & Media\n",
      "        14545 non-null  object \n",
      " 42  \n",
      "Extras\n",
      "                       12957 non-null  object \n",
      " 43  \n",
      "Safety & Security\n",
      "            14937 non-null  object \n",
      " 44  description                    15919 non-null  object \n",
      " 45  Emission Label                 3985 non-null   object \n",
      " 46  Gears                          11207 non-null  object \n",
      " 47  Country version                7586 non-null   object \n",
      " 48  Electricity consumption        137 non-null    object \n",
      " 49  Last Service Date              566 non-null    object \n",
      " 50  Other Fuel Types               880 non-null    object \n",
      " 51  Availability                   635 non-null    object \n",
      " 52  Last Timing Belt Service Date  16 non-null     object \n",
      " 53  Available from                 272 non-null    object \n",
      "dtypes: float64(1), int64(1), object(52)\n",
      "memory usage: 6.6+ MB\n"
     ]
    }
   ],
   "source": [
    "df.info()"
   ]
  },
  {
   "cell_type": "code",
   "execution_count": 5,
   "id": "0d77faec",
   "metadata": {},
   "outputs": [],
   "source": [
    "df = df.drop(\"kW\", axis=1)\n",
    "# kW column dropped\n"
   ]
  },
  {
   "cell_type": "code",
   "execution_count": 6,
   "id": "a188fafc",
   "metadata": {},
   "outputs": [
    {
     "name": "stderr",
     "output_type": "stream",
     "text": [
      "<ipython-input-6-7597322c733e>:1: FutureWarning: The default value of regex will change from True to False in a future version.\n",
      "  df.hp = df.hp.str.replace(r'[A-Za-z -]', \"\")\n"
     ]
    },
    {
     "data": {
      "text/plain": [
       "0         66\n",
       "1        141\n",
       "2         85\n",
       "3         66\n",
       "4         66\n",
       "        ... \n",
       "15914    147\n",
       "15915    165\n",
       "15916    146\n",
       "15917    147\n",
       "15918    165\n",
       "Name: hp, Length: 15919, dtype: object"
      ]
     },
     "execution_count": 6,
     "metadata": {},
     "output_type": "execute_result"
    }
   ],
   "source": [
    "df.hp = df.hp.str.replace(r'[A-Za-z -]', \"\")\n",
    "df.hp"
   ]
  },
  {
   "cell_type": "code",
   "execution_count": 7,
   "id": "a729f7a6",
   "metadata": {},
   "outputs": [],
   "source": [
    "df.hp = pd.to_numeric(df.hp)"
   ]
  },
  {
   "cell_type": "code",
   "execution_count": 8,
   "id": "c43513da",
   "metadata": {},
   "outputs": [
    {
     "data": {
      "text/plain": [
       "0                  Used\n",
       "1                  Used\n",
       "2                  Used\n",
       "3                  Used\n",
       "4                  Used\n",
       "              ...      \n",
       "15914               New\n",
       "15915              Used\n",
       "15916    Pre-registered\n",
       "15917    Pre-registered\n",
       "15918     Demonstration\n",
       "Name: Type, Length: 15919, dtype: object"
      ]
     },
     "execution_count": 8,
     "metadata": {},
     "output_type": "execute_result"
    }
   ],
   "source": [
    "# taking only first part of type columns as \"used\" etc.\n",
    "\n",
    "df.Type = df.Type.astype(\"str\").str.findall(r'[A-Za-z-]+').apply(lambda x : x[0])\n",
    "df.Type"
   ]
  },
  {
   "cell_type": "code",
   "execution_count": 9,
   "id": "972b30b2",
   "metadata": {},
   "outputs": [
    {
     "data": {
      "text/plain": [
       "0                  Used\n",
       "1                  Used\n",
       "2                  Used\n",
       "3                  Used\n",
       "4                  Used\n",
       "              ...      \n",
       "15914               New\n",
       "15915              Used\n",
       "15916    Pre-registered\n",
       "15917    Pre-registered\n",
       "15918     Demonstration\n",
       "Name: Type, Length: 15919, dtype: object"
      ]
     },
     "execution_count": 9,
     "metadata": {},
     "output_type": "execute_result"
    }
   ],
   "source": [
    "df.Type"
   ]
  },
  {
   "cell_type": "code",
   "execution_count": null,
   "id": "9c696108",
   "metadata": {},
   "outputs": [],
   "source": []
  },
  {
   "cell_type": "code",
   "execution_count": 10,
   "id": "01b5b947",
   "metadata": {},
   "outputs": [
    {
     "data": {
      "text/plain": [
       "0         2  \n",
       "1        None\n",
       "2         1  \n",
       "3         1  \n",
       "4         1  \n",
       "         ... \n",
       "15914    None\n",
       "15915     1  \n",
       "15916     1  \n",
       "15917    None\n",
       "15918     1  \n",
       "Name: prev_owner, Length: 15919, dtype: object"
      ]
     },
     "execution_count": 10,
     "metadata": {},
     "output_type": "execute_result"
    }
   ],
   "source": [
    "df.prev_owner = df.prev_owner.str.replace('[A-Za-z]','',regex=True)\n",
    "df.prev_owner"
   ]
  },
  {
   "cell_type": "code",
   "execution_count": 11,
   "id": "6f326413",
   "metadata": {},
   "outputs": [],
   "source": [
    "def list_destroyer(x):\n",
    "    if len(x)>0 :\n",
    "        return x[0]"
   ]
  },
  {
   "cell_type": "code",
   "execution_count": 12,
   "id": "e13b6a97",
   "metadata": {},
   "outputs": [
    {
     "data": {
      "text/plain": [
       "0        2016\n",
       "1        2017\n",
       "2        2016\n",
       "3        2016\n",
       "4        2016\n",
       "         ... \n",
       "15914    None\n",
       "15915    2019\n",
       "15916    2019\n",
       "15917    2019\n",
       "15918    2019\n",
       "Name: First Registration, Length: 15919, dtype: object"
      ]
     },
     "execution_count": 12,
     "metadata": {},
     "output_type": "execute_result"
    }
   ],
   "source": [
    "# Since some of null values refers to \"0\", we will use registeration dates to find non-used cars \n",
    "#and will refill some of null values.\n",
    "df[\"First Registration\"] = df[\"First Registration\"].astype(\"str\").str.findall(r'[0-9]+').apply(list_destroyer)\n",
    "df[\"First Registration\"]\n"
   ]
  },
  {
   "cell_type": "code",
   "execution_count": 13,
   "id": "43af00a3",
   "metadata": {},
   "outputs": [
    {
     "name": "stderr",
     "output_type": "stream",
     "text": [
      "<ipython-input-13-70c81092061c>:5: SettingWithCopyWarning: \n",
      "A value is trying to be set on a copy of a slice from a DataFrame\n",
      "\n",
      "See the caveats in the documentation: https://pandas.pydata.org/pandas-docs/stable/user_guide/indexing.html#returning-a-view-versus-a-copy\n",
      "  df.prev_owner[count]=0\n"
     ]
    }
   ],
   "source": [
    "count = 0\n",
    "while count < len(df.prev_owner):\n",
    "    for i in df[\"First Registration\"]:\n",
    "        if i == \"2019\":\n",
    "            df.prev_owner[count]=0\n",
    "        count +=1        \n",
    "        "
   ]
  },
  {
   "cell_type": "code",
   "execution_count": 14,
   "id": "b6bf00d9",
   "metadata": {},
   "outputs": [
    {
     "data": {
      "text/plain": [
       "0        2.0\n",
       "1        NaN\n",
       "2        1.0\n",
       "3        1.0\n",
       "4        1.0\n",
       "        ... \n",
       "15914    NaN\n",
       "15915    0.0\n",
       "15916    0.0\n",
       "15917    0.0\n",
       "15918    0.0\n",
       "Name: prev_owner, Length: 15919, dtype: float64"
      ]
     },
     "execution_count": 14,
     "metadata": {},
     "output_type": "execute_result"
    }
   ],
   "source": [
    "pd.to_numeric(df.prev_owner)"
   ]
  },
  {
   "cell_type": "code",
   "execution_count": 15,
   "id": "bb8ab4df",
   "metadata": {},
   "outputs": [],
   "source": [
    "df[\"Next Inspection\"] = df[\"Next Inspection\"].astype(\"str\").str.findall(r'\\d\\d.\\d\\d\\d\\d').apply(list_destroyer)"
   ]
  },
  {
   "cell_type": "code",
   "execution_count": 16,
   "id": "f858f5ae",
   "metadata": {},
   "outputs": [
    {
     "data": {
      "text/plain": [
       "0       2021-06-01\n",
       "1              NaT\n",
       "2              NaT\n",
       "3              NaT\n",
       "4              NaT\n",
       "           ...    \n",
       "15914          NaT\n",
       "15915   2022-01-01\n",
       "15916          NaT\n",
       "15917          NaT\n",
       "15918          NaT\n",
       "Name: Next Inspection, Length: 15919, dtype: datetime64[ns]"
      ]
     },
     "execution_count": 16,
     "metadata": {},
     "output_type": "execute_result"
    }
   ],
   "source": [
    "pd.to_datetime(df[\"Next Inspection\"])"
   ]
  },
  {
   "cell_type": "code",
   "execution_count": 17,
   "id": "c51e4f84",
   "metadata": {},
   "outputs": [
    {
     "data": {
      "text/plain": [
       "0         Yes\n",
       "1        None\n",
       "2        None\n",
       "3        None\n",
       "4         Yes\n",
       "         ... \n",
       "15914    None\n",
       "15915    None\n",
       "15916     Yes\n",
       "15917    None\n",
       "15918     Yes\n",
       "Name: Inspection new, Length: 15919, dtype: object"
      ]
     },
     "execution_count": 17,
     "metadata": {},
     "output_type": "execute_result"
    }
   ],
   "source": [
    "df[\"Inspection new\"] = df[\"Inspection new\"].astype(\"str\").str.findall(r'[A-Z][a-z]+').apply(list_destroyer)\n",
    "df[\"Inspection new\"]"
   ]
  },
  {
   "cell_type": "code",
   "execution_count": 18,
   "id": "0150da86",
   "metadata": {},
   "outputs": [],
   "source": [
    "df = df.drop([\"Warranty\",\"Full Service\", \"Non-smoking Vehicle\"], axis = 1)"
   ]
  },
  {
   "cell_type": "code",
   "execution_count": 19,
   "id": "28a16c64",
   "metadata": {},
   "outputs": [],
   "source": [
    "df = df.drop(\"null\", axis = 1) "
   ]
  },
  {
   "cell_type": "code",
   "execution_count": 20,
   "id": "59a83f9d",
   "metadata": {},
   "outputs": [
    {
     "data": {
      "text/plain": [
       "0           Audi\n",
       "1           Audi\n",
       "2           Audi\n",
       "3           Audi\n",
       "4           Audi\n",
       "          ...   \n",
       "15914    Renault\n",
       "15915    Renault\n",
       "15916    Renault\n",
       "15917    Renault\n",
       "15918    Renault\n",
       "Name: Brand, Length: 15919, dtype: object"
      ]
     },
     "execution_count": 20,
     "metadata": {},
     "output_type": "execute_result"
    }
   ],
   "source": [
    "df = df.rename(columns= {\"Make\":\"Brand\"} )\n",
    "df.Brand = df.Brand.astype(\"str\").str.findall(r'[A-Z][a-z]+').apply(list_destroyer)\n",
    "df.Brand"
   ]
  },
  {
   "cell_type": "code",
   "execution_count": 21,
   "id": "d26065b9",
   "metadata": {},
   "outputs": [],
   "source": [
    "df.Model = df.Model.astype(\"str\").str.findall(r'[A-Z][a-z0-9]+').apply(list_destroyer)"
   ]
  },
  {
   "cell_type": "code",
   "execution_count": 22,
   "id": "4d76cff3",
   "metadata": {},
   "outputs": [
    {
     "data": {
      "text/plain": [
       "0             LR-062483\n",
       "1                   nan\n",
       "2              AM-95365\n",
       "3                   nan\n",
       "4                 C1626\n",
       "              ...      \n",
       "15914          10988301\n",
       "15915       507370_3223\n",
       "15916          Espace16\n",
       "15917           2691331\n",
       "15918    Re_30000008029\n",
       "Name: Offer Number, Length: 15919, dtype: object"
      ]
     },
     "execution_count": 22,
     "metadata": {},
     "output_type": "execute_result"
    }
   ],
   "source": [
    "df[\"Offer Number\"] = df[\"Offer Number\"].astype(\"str\").apply(lambda x : x.replace(\"['\\\\n\",\"\").replace(\"\\\\n']\", \"\"))\n",
    "df[\"Offer Number\"]"
   ]
  },
  {
   "cell_type": "code",
   "execution_count": 23,
   "id": "fc79b750",
   "metadata": {},
   "outputs": [
    {
     "data": {
      "text/plain": [
       "0        Black\n",
       "1          Red\n",
       "2        Black\n",
       "3        Brown\n",
       "4        Black\n",
       "         ...  \n",
       "15914     Grey\n",
       "15915     Grey\n",
       "15916    White\n",
       "15917     Grey\n",
       "15918     Grey\n",
       "Name: Body Color, Length: 15919, dtype: object"
      ]
     },
     "execution_count": 23,
     "metadata": {},
     "output_type": "execute_result"
    }
   ],
   "source": [
    "df[\"Body Color\"] = df[\"Body Color\"].astype(\"str\").str.findall(r'[A-Z][a-z0-9]+').apply(list_destroyer)\n",
    "df[\"Body Color\"] "
   ]
  },
  {
   "cell_type": "code",
   "execution_count": 26,
   "id": "566cfaec",
   "metadata": {},
   "outputs": [
    {
     "data": {
      "text/plain": [
       "0        Metallic\n",
       "1            None\n",
       "2        Metallic\n",
       "3        Metallic\n",
       "4        Metallic\n",
       "           ...   \n",
       "15914    Metallic\n",
       "15915    Metallic\n",
       "15916        None\n",
       "15917        None\n",
       "15918    Metallic\n",
       "Name: Paint Type, Length: 15919, dtype: object"
      ]
     },
     "execution_count": 26,
     "metadata": {},
     "output_type": "execute_result"
    }
   ],
   "source": [
    "df[\"Paint Type\"] = df[\"Paint Type\"].astype(\"str\").str.findall(r'[A-Z][a-z0-9/]+').apply(list_destroyer)\n",
    "df[\"Paint Type\"]"
   ]
  },
  {
   "cell_type": "code",
   "execution_count": 28,
   "id": "b2eb61fc",
   "metadata": {},
   "outputs": [
    {
     "data": {
      "text/plain": [
       "0                 Mythosschwarz\n",
       "1                           nan\n",
       "2        mythosschwarz metallic\n",
       "3                           nan\n",
       "4        Mythosschwarz Metallic\n",
       "                  ...          \n",
       "15914              Grigio scuro\n",
       "15915       Stahl-Grau Metallic\n",
       "15916               arktis-weiß\n",
       "15917                    Grigio\n",
       "15918    Titanium-Grau Metallic\n",
       "Name: Body Color Original, Length: 15919, dtype: object"
      ]
     },
     "execution_count": 28,
     "metadata": {},
     "output_type": "execute_result"
    }
   ],
   "source": [
    "df[\"Body Color Original\"] = df[\"Body Color Original\"].astype(\"str\").apply(lambda x : x.replace(\"['\\\\n\",\"\").replace(\"\\\\n']\", \"\"))\n",
    "df[\"Body Color Original\"]\n"
   ]
  },
  {
   "cell_type": "code",
   "execution_count": 35,
   "id": "441fd22e",
   "metadata": {},
   "outputs": [],
   "source": [
    "def list_divider(x):\n",
    "    if len(x)>0:\n",
    "        if len(x)==1:\n",
    "            return x[0]\n",
    "        else:\n",
    "            return x[0]+\",\"+x[1]"
   ]
  },
  {
   "cell_type": "code",
   "execution_count": 36,
   "id": "f3185099",
   "metadata": {},
   "outputs": [
    {
     "data": {
      "text/plain": [
       "0        Cloth,Black\n",
       "1         Cloth,Grey\n",
       "2        Cloth,Black\n",
       "3               None\n",
       "4        Cloth,Black\n",
       "            ...     \n",
       "15914           None\n",
       "15915          Cloth\n",
       "15916     Full,Black\n",
       "15917           Part\n",
       "15918     Full,Brown\n",
       "Name: Upholstery, Length: 15919, dtype: object"
      ]
     },
     "execution_count": 36,
     "metadata": {},
     "output_type": "execute_result"
    }
   ],
   "source": [
    "df[\"Upholstery\"].astype(\"str\").str.findall(r'[A-Z][a-z]+').apply(list_divider)\n"
   ]
  },
  {
   "cell_type": "code",
   "execution_count": 42,
   "id": "65937342",
   "metadata": {},
   "outputs": [
    {
     "data": {
      "text/plain": [
       "0        Sedans\n",
       "1        Sedans\n",
       "2        Sedans\n",
       "3        Sedans\n",
       "4        Sedans\n",
       "          ...  \n",
       "15914       Van\n",
       "15915       Van\n",
       "15916       Van\n",
       "15917       Van\n",
       "15918       Van\n",
       "Name: Body, Length: 15919, dtype: object"
      ]
     },
     "execution_count": 42,
     "metadata": {},
     "output_type": "execute_result"
    }
   ],
   "source": [
    "df.Body = df[\"Body\"].astype(\"str\").str.findall(r'[A-Z][a-z ]+').apply(list_destroyer)\n",
    "df.Body"
   ]
  },
  {
   "cell_type": "code",
   "execution_count": 49,
   "id": "6a3b8486",
   "metadata": {},
   "outputs": [
    {
     "data": {
      "text/plain": [
       "0        5\n",
       "1        3\n",
       "2        4\n",
       "3        3\n",
       "4        5\n",
       "        ..\n",
       "15914    5\n",
       "15915    5\n",
       "15916    5\n",
       "15917    5\n",
       "15918    5\n",
       "Name: Nr. of Doors, Length: 15919, dtype: object"
      ]
     },
     "execution_count": 49,
     "metadata": {},
     "output_type": "execute_result"
    }
   ],
   "source": [
    "df[\"Nr. of Doors\"] = df[\"Nr. of Doors\"].astype(\"str\").str.findall(r'\\d').apply(list_destroyer)\n",
    "df[\"Nr. of Doors\"]"
   ]
  },
  {
   "cell_type": "code",
   "execution_count": 50,
   "id": "9a38ab3f",
   "metadata": {},
   "outputs": [
    {
     "data": {
      "text/plain": [
       "0        5\n",
       "1        3\n",
       "2        4\n",
       "3        3\n",
       "4        5\n",
       "        ..\n",
       "15914    5\n",
       "15915    5\n",
       "15916    5\n",
       "15917    5\n",
       "15918    5\n",
       "Name: Nr. of Seats, Length: 15919, dtype: object"
      ]
     },
     "execution_count": 50,
     "metadata": {},
     "output_type": "execute_result"
    }
   ],
   "source": [
    "df[\"Nr. of Seats\"] = df[\"Nr. of Doors\"].astype(\"str\").str.findall(r'\\d').apply(list_destroyer)\n",
    "df[\"Nr. of Seats\"]"
   ]
  },
  {
   "cell_type": "code",
   "execution_count": 52,
   "id": "e524429b",
   "metadata": {},
   "outputs": [
    {
     "data": {
      "text/plain": [
       "0        0588/BDF\n",
       "1        0588/BCY\n",
       "2            None\n",
       "3            None\n",
       "4        0588/BDF\n",
       "           ...   \n",
       "15914        None\n",
       "15915        None\n",
       "15916        None\n",
       "15917        None\n",
       "15918    3333/BHJ\n",
       "Name: Model Code, Length: 15919, dtype: object"
      ]
     },
     "execution_count": 52,
     "metadata": {},
     "output_type": "execute_result"
    }
   ],
   "source": [
    "df[\"Model Code\"] = df[\"Model Code\"].astype(\"str\").str.findall(r'[0-9/]+[A-Z]+').apply(list_destroyer)\n",
    "df[\"Model Code\"]"
   ]
  },
  {
   "cell_type": "code",
   "execution_count": 55,
   "id": "d0e27171",
   "metadata": {},
   "outputs": [
    {
     "data": {
      "text/plain": [
       "array(['Automatic', 'Manual', 'Semi'], dtype=object)"
      ]
     },
     "execution_count": 55,
     "metadata": {},
     "output_type": "execute_result"
    }
   ],
   "source": [
    "df[\"Gearing Type\"] = df[\"Gearing Type\"].astype(\"str\").str.findall(r'[A-Z][a-z]+').apply(list_destroyer)\n",
    "df[\"Gearing Type\"].unique()"
   ]
  },
  {
   "cell_type": "code",
   "execution_count": 61,
   "id": "c3b50a93",
   "metadata": {},
   "outputs": [
    {
     "data": {
      "text/plain": [
       "0        1422\n",
       "1        1798\n",
       "2        1598\n",
       "3        1422\n",
       "4        1422\n",
       "         ... \n",
       "15914    1997\n",
       "15915    1798\n",
       "15916    1997\n",
       "15917    1997\n",
       "15918    1798\n",
       "Name: Displacement, Length: 15919, dtype: object"
      ]
     },
     "execution_count": 61,
     "metadata": {},
     "output_type": "execute_result"
    }
   ],
   "source": [
    "df[\"Displacement\"] = df[\"Displacement\"].astype(\"str\").str.findall(r'[0-9]+').apply(list_divider).str.replace(\",\",\"\")\n",
    "df[\"Displacement\"]"
   ]
  },
  {
   "cell_type": "code",
   "execution_count": 63,
   "id": "5edfbb56",
   "metadata": {},
   "outputs": [
    {
     "data": {
      "text/plain": [
       "0           3\n",
       "1           4\n",
       "2        None\n",
       "3           3\n",
       "4           3\n",
       "         ... \n",
       "15914       4\n",
       "15915       4\n",
       "15916       4\n",
       "15917       4\n",
       "15918       4\n",
       "Name: Cylinders, Length: 15919, dtype: object"
      ]
     },
     "execution_count": 63,
     "metadata": {},
     "output_type": "execute_result"
    }
   ],
   "source": [
    "df[\"Cylinders\"] = df[\"Cylinders\"].astype(\"str\").str.findall(r'\\d').apply(list_destroyer)\n",
    "df[\"Cylinders\"]"
   ]
  },
  {
   "cell_type": "code",
   "execution_count": 65,
   "id": "12254205",
   "metadata": {},
   "outputs": [
    {
     "data": {
      "text/plain": [
       "0        1220\n",
       "1        1255\n",
       "2        None\n",
       "3        1195\n",
       "4        None\n",
       "         ... \n",
       "15914    1758\n",
       "15915    1708\n",
       "15916    None\n",
       "15917    1758\n",
       "15918    1685\n",
       "Name: Weight, Length: 15919, dtype: object"
      ]
     },
     "execution_count": 65,
     "metadata": {},
     "output_type": "execute_result"
    }
   ],
   "source": [
    "df[\"Weight\"] = df[\"Weight\"].astype(\"str\").str.findall(r'[0-9]+').apply(list_divider).str.replace(\",\",\"\")\n",
    "df[\"Weight\"]"
   ]
  },
  {
   "cell_type": "code",
   "execution_count": null,
   "id": "aaf687b9",
   "metadata": {},
   "outputs": [],
   "source": []
  },
  {
   "cell_type": "code",
   "execution_count": null,
   "id": "1998c734",
   "metadata": {},
   "outputs": [],
   "source": []
  },
  {
   "cell_type": "code",
   "execution_count": null,
   "id": "9fe10e8a",
   "metadata": {},
   "outputs": [],
   "source": []
  },
  {
   "cell_type": "code",
   "execution_count": null,
   "id": "f812d356",
   "metadata": {},
   "outputs": [],
   "source": [
    "df.Weight = df.Weight.astype(\"string\")"
   ]
  },
  {
   "cell_type": "code",
   "execution_count": null,
   "id": "23fe3341",
   "metadata": {},
   "outputs": [],
   "source": [
    "df.Weight = df.Weight.str.findall(r'[0-9]+')\n",
    "df.Weight"
   ]
  },
  {
   "cell_type": "code",
   "execution_count": null,
   "id": "f59f56c1",
   "metadata": {},
   "outputs": [],
   "source": [
    "df.Weight = df.Weight.str.findall(r'[0-9]+')\n",
    "df.Weight"
   ]
  },
  {
   "cell_type": "code",
   "execution_count": null,
   "id": "b41e916a",
   "metadata": {},
   "outputs": [],
   "source": [
    "df.info()"
   ]
  },
  {
   "cell_type": "code",
   "execution_count": null,
   "id": "e6c233c0",
   "metadata": {},
   "outputs": [],
   "source": [
    "df.describe()"
   ]
  },
  {
   "cell_type": "markdown",
   "id": "5219ca8c",
   "metadata": {},
   "source": [
    "STEP 2 \n",
    "\n",
    "Since relationship analysis will be based numbers. We will convert some columns such as \"km\", \"hp\", \"weight\" and \"cyclinder\" to numeric data.\n",
    "\n",
    "Also registiration will be converted to datetime.\n",
    "\n",
    "Previous owner will be converted to numeric data (0,1,2...)"
   ]
  },
  {
   "cell_type": "code",
   "execution_count": null,
   "id": "97845408",
   "metadata": {},
   "outputs": [],
   "source": [
    "df.Fuel = df.Fuel.str.extract(\"(\\d\\d|\\d.\\d|\\d)\")"
   ]
  },
  {
   "cell_type": "code",
   "execution_count": null,
   "id": "37a66452",
   "metadata": {},
   "outputs": [],
   "source": [
    "df"
   ]
  },
  {
   "cell_type": "code",
   "execution_count": null,
   "id": "2e721355",
   "metadata": {},
   "outputs": [],
   "source": [
    "df.Type = df.Type.astype(\"string\")"
   ]
  },
  {
   "cell_type": "code",
   "execution_count": null,
   "id": "eb861130",
   "metadata": {},
   "outputs": [],
   "source": [
    "df.Type = df.Type.str.findall(r'[A-Za-z]+')"
   ]
  },
  {
   "cell_type": "code",
   "execution_count": null,
   "id": "c3b4ef30",
   "metadata": {},
   "outputs": [],
   "source": [
    "df.Type"
   ]
  },
  {
   "cell_type": "code",
   "execution_count": null,
   "id": "43469659",
   "metadata": {},
   "outputs": [],
   "source": [
    "new = pd.Series(data = df.Weight)"
   ]
  },
  {
   "cell_type": "code",
   "execution_count": null,
   "id": "63861deb",
   "metadata": {},
   "outputs": [],
   "source": [
    "new.str.findall(r'[0-9]+')"
   ]
  },
  {
   "cell_type": "code",
   "execution_count": null,
   "id": "e8e51a17",
   "metadata": {},
   "outputs": [],
   "source": []
  },
  {
   "cell_type": "code",
   "execution_count": null,
   "id": "2275f3d7",
   "metadata": {},
   "outputs": [],
   "source": []
  }
 ],
 "metadata": {
  "kernelspec": {
   "display_name": "Python 3",
   "language": "python",
   "name": "python3"
  },
  "language_info": {
   "codemirror_mode": {
    "name": "ipython",
    "version": 3
   },
   "file_extension": ".py",
   "mimetype": "text/x-python",
   "name": "python",
   "nbconvert_exporter": "python",
   "pygments_lexer": "ipython3",
   "version": "3.8.8"
  }
 },
 "nbformat": 4,
 "nbformat_minor": 5
}
