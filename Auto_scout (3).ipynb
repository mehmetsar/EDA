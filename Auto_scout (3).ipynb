{
 "cells": [
  {
   "cell_type": "code",
   "execution_count": 146,
   "id": "3210df1e",
   "metadata": {},
   "outputs": [],
   "source": [
    "import numpy as np\n",
    "import pandas as pd\n",
    "import matplotlib.pyplot as plt\n",
    "import seaborn as sns\n",
    "import regex as re\n",
    "import string as str\n"
   ]
  },
  {
   "cell_type": "code",
   "execution_count": 147,
   "id": "8c447328",
   "metadata": {},
   "outputs": [
    {
     "name": "stdout",
     "output_type": "stream",
     "text": [
      "Requirement already satisfied: google_trans in c:\\users\\casper\\anaconda3\\lib\\site-packages (2.4.0)\n",
      "Note: you may need to restart the kernel to use updated packages.\n"
     ]
    }
   ],
   "source": [
    "pip install google_trans"
   ]
  },
  {
   "cell_type": "code",
   "execution_count": 148,
   "id": "2c85d0e5",
   "metadata": {},
   "outputs": [],
   "source": [
    "from googletrans import Translator"
   ]
  },
  {
   "cell_type": "code",
   "execution_count": 149,
   "id": "7761e7b6",
   "metadata": {},
   "outputs": [],
   "source": [
    "df = pd.read_json(\"scout_car.json\",  lines=True)\n",
    "# we have to read this file line by line"
   ]
  },
  {
   "cell_type": "code",
   "execution_count": 150,
   "id": "afb901d5",
   "metadata": {},
   "outputs": [
    {
     "data": {
      "text/html": [
       "<div>\n",
       "<style scoped>\n",
       "    .dataframe tbody tr th:only-of-type {\n",
       "        vertical-align: middle;\n",
       "    }\n",
       "\n",
       "    .dataframe tbody tr th {\n",
       "        vertical-align: top;\n",
       "    }\n",
       "\n",
       "    .dataframe thead th {\n",
       "        text-align: right;\n",
       "    }\n",
       "</style>\n",
       "<table border=\"1\" class=\"dataframe\">\n",
       "  <thead>\n",
       "    <tr style=\"text-align: right;\">\n",
       "      <th></th>\n",
       "      <th>url</th>\n",
       "      <th>make_model</th>\n",
       "      <th>short_description</th>\n",
       "      <th>body_type</th>\n",
       "      <th>price</th>\n",
       "      <th>vat</th>\n",
       "      <th>km</th>\n",
       "      <th>registration</th>\n",
       "      <th>prev_owner</th>\n",
       "      <th>kW</th>\n",
       "      <th>...</th>\n",
       "      <th>description</th>\n",
       "      <th>Emission Label</th>\n",
       "      <th>Gears</th>\n",
       "      <th>Country version</th>\n",
       "      <th>Electricity consumption</th>\n",
       "      <th>Last Service Date</th>\n",
       "      <th>Other Fuel Types</th>\n",
       "      <th>Availability</th>\n",
       "      <th>Last Timing Belt Service Date</th>\n",
       "      <th>Available from</th>\n",
       "    </tr>\n",
       "  </thead>\n",
       "  <tbody>\n",
       "    <tr>\n",
       "      <th>0</th>\n",
       "      <td>https://www.autoscout24.com//offers/audi-a1-sp...</td>\n",
       "      <td>Audi A1</td>\n",
       "      <td>Sportback 1.4 TDI S-tronic Xenon Navi Klima</td>\n",
       "      <td>Sedans</td>\n",
       "      <td>15770</td>\n",
       "      <td>VAT deductible</td>\n",
       "      <td>56,013 km</td>\n",
       "      <td>01/2016</td>\n",
       "      <td>2 previous owners</td>\n",
       "      <td>NaN</td>\n",
       "      <td>...</td>\n",
       "      <td>[\\n, Sicherheit:,  , Deaktivierung für Beifahr...</td>\n",
       "      <td>NaN</td>\n",
       "      <td>NaN</td>\n",
       "      <td>NaN</td>\n",
       "      <td>NaN</td>\n",
       "      <td>NaN</td>\n",
       "      <td>NaN</td>\n",
       "      <td>NaN</td>\n",
       "      <td>NaN</td>\n",
       "      <td>NaN</td>\n",
       "    </tr>\n",
       "    <tr>\n",
       "      <th>1</th>\n",
       "      <td>https://www.autoscout24.com//offers/audi-a1-1-...</td>\n",
       "      <td>Audi A1</td>\n",
       "      <td>1.8 TFSI sport</td>\n",
       "      <td>Sedans</td>\n",
       "      <td>14500</td>\n",
       "      <td>Price negotiable</td>\n",
       "      <td>80,000 km</td>\n",
       "      <td>03/2017</td>\n",
       "      <td>None</td>\n",
       "      <td>NaN</td>\n",
       "      <td>...</td>\n",
       "      <td>[\\nLangstreckenfahrzeug daher die hohe Kilomet...</td>\n",
       "      <td>[\\n4 (Green)\\n]</td>\n",
       "      <td>[\\n7\\n]</td>\n",
       "      <td>NaN</td>\n",
       "      <td>NaN</td>\n",
       "      <td>NaN</td>\n",
       "      <td>NaN</td>\n",
       "      <td>NaN</td>\n",
       "      <td>NaN</td>\n",
       "      <td>NaN</td>\n",
       "    </tr>\n",
       "    <tr>\n",
       "      <th>2</th>\n",
       "      <td>https://www.autoscout24.com//offers/audi-a1-sp...</td>\n",
       "      <td>Audi A1</td>\n",
       "      <td>Sportback 1.6 TDI S tronic Einparkhilfe plus+m...</td>\n",
       "      <td>Sedans</td>\n",
       "      <td>14640</td>\n",
       "      <td>VAT deductible</td>\n",
       "      <td>83,450 km</td>\n",
       "      <td>02/2016</td>\n",
       "      <td>1 previous owner</td>\n",
       "      <td>NaN</td>\n",
       "      <td>...</td>\n",
       "      <td>[\\n, Fahrzeug-Nummer: AM-95365,  , Ehem. UPE 2...</td>\n",
       "      <td>[\\n4 (Green)\\n]</td>\n",
       "      <td>NaN</td>\n",
       "      <td>NaN</td>\n",
       "      <td>NaN</td>\n",
       "      <td>NaN</td>\n",
       "      <td>NaN</td>\n",
       "      <td>NaN</td>\n",
       "      <td>NaN</td>\n",
       "      <td>NaN</td>\n",
       "    </tr>\n",
       "    <tr>\n",
       "      <th>3</th>\n",
       "      <td>https://www.autoscout24.com//offers/audi-a1-1-...</td>\n",
       "      <td>Audi A1</td>\n",
       "      <td>1.4 TDi Design S tronic</td>\n",
       "      <td>Sedans</td>\n",
       "      <td>14500</td>\n",
       "      <td>None</td>\n",
       "      <td>73,000 km</td>\n",
       "      <td>08/2016</td>\n",
       "      <td>1 previous owner</td>\n",
       "      <td>NaN</td>\n",
       "      <td>...</td>\n",
       "      <td>[\\nAudi A1: , - 1e eigenaar , - Perfecte staat...</td>\n",
       "      <td>NaN</td>\n",
       "      <td>[\\n6\\n]</td>\n",
       "      <td>NaN</td>\n",
       "      <td>NaN</td>\n",
       "      <td>NaN</td>\n",
       "      <td>NaN</td>\n",
       "      <td>NaN</td>\n",
       "      <td>NaN</td>\n",
       "      <td>NaN</td>\n",
       "    </tr>\n",
       "    <tr>\n",
       "      <th>4</th>\n",
       "      <td>https://www.autoscout24.com//offers/audi-a1-sp...</td>\n",
       "      <td>Audi A1</td>\n",
       "      <td>Sportback 1.4 TDI S-Tronic S-Line Ext. admired...</td>\n",
       "      <td>Sedans</td>\n",
       "      <td>16790</td>\n",
       "      <td>None</td>\n",
       "      <td>16,200 km</td>\n",
       "      <td>05/2016</td>\n",
       "      <td>1 previous owner</td>\n",
       "      <td>NaN</td>\n",
       "      <td>...</td>\n",
       "      <td>[\\n, Technik &amp; Sicherheit:, Xenon plus, Klimaa...</td>\n",
       "      <td>NaN</td>\n",
       "      <td>NaN</td>\n",
       "      <td>[\\nGermany\\n]</td>\n",
       "      <td>NaN</td>\n",
       "      <td>NaN</td>\n",
       "      <td>NaN</td>\n",
       "      <td>NaN</td>\n",
       "      <td>NaN</td>\n",
       "      <td>NaN</td>\n",
       "    </tr>\n",
       "  </tbody>\n",
       "</table>\n",
       "<p>5 rows × 54 columns</p>\n",
       "</div>"
      ],
      "text/plain": [
       "                                                 url make_model  \\\n",
       "0  https://www.autoscout24.com//offers/audi-a1-sp...    Audi A1   \n",
       "1  https://www.autoscout24.com//offers/audi-a1-1-...    Audi A1   \n",
       "2  https://www.autoscout24.com//offers/audi-a1-sp...    Audi A1   \n",
       "3  https://www.autoscout24.com//offers/audi-a1-1-...    Audi A1   \n",
       "4  https://www.autoscout24.com//offers/audi-a1-sp...    Audi A1   \n",
       "\n",
       "                                   short_description body_type  price  \\\n",
       "0        Sportback 1.4 TDI S-tronic Xenon Navi Klima    Sedans  15770   \n",
       "1                                     1.8 TFSI sport    Sedans  14500   \n",
       "2  Sportback 1.6 TDI S tronic Einparkhilfe plus+m...    Sedans  14640   \n",
       "3                            1.4 TDi Design S tronic    Sedans  14500   \n",
       "4  Sportback 1.4 TDI S-Tronic S-Line Ext. admired...    Sedans  16790   \n",
       "\n",
       "                vat         km registration         prev_owner  kW  ...  \\\n",
       "0    VAT deductible  56,013 km      01/2016  2 previous owners NaN  ...   \n",
       "1  Price negotiable  80,000 km      03/2017               None NaN  ...   \n",
       "2    VAT deductible  83,450 km      02/2016   1 previous owner NaN  ...   \n",
       "3              None  73,000 km      08/2016   1 previous owner NaN  ...   \n",
       "4              None  16,200 km      05/2016   1 previous owner NaN  ...   \n",
       "\n",
       "                                         description   Emission Label  \\\n",
       "0  [\\n, Sicherheit:,  , Deaktivierung für Beifahr...              NaN   \n",
       "1  [\\nLangstreckenfahrzeug daher die hohe Kilomet...  [\\n4 (Green)\\n]   \n",
       "2  [\\n, Fahrzeug-Nummer: AM-95365,  , Ehem. UPE 2...  [\\n4 (Green)\\n]   \n",
       "3  [\\nAudi A1: , - 1e eigenaar , - Perfecte staat...              NaN   \n",
       "4  [\\n, Technik & Sicherheit:, Xenon plus, Klimaa...              NaN   \n",
       "\n",
       "     Gears Country version Electricity consumption Last Service Date  \\\n",
       "0      NaN             NaN                     NaN               NaN   \n",
       "1  [\\n7\\n]             NaN                     NaN               NaN   \n",
       "2      NaN             NaN                     NaN               NaN   \n",
       "3  [\\n6\\n]             NaN                     NaN               NaN   \n",
       "4      NaN   [\\nGermany\\n]                     NaN               NaN   \n",
       "\n",
       "  Other Fuel Types Availability Last Timing Belt Service Date Available from  \n",
       "0              NaN          NaN                           NaN            NaN  \n",
       "1              NaN          NaN                           NaN            NaN  \n",
       "2              NaN          NaN                           NaN            NaN  \n",
       "3              NaN          NaN                           NaN            NaN  \n",
       "4              NaN          NaN                           NaN            NaN  \n",
       "\n",
       "[5 rows x 54 columns]"
      ]
     },
     "execution_count": 150,
     "metadata": {},
     "output_type": "execute_result"
    }
   ],
   "source": [
    "df.head()"
   ]
  },
  {
   "cell_type": "markdown",
   "id": "079d0053",
   "metadata": {},
   "source": [
    "Vat stands for value added tax which is generally 20 percent of cars."
   ]
  },
  {
   "cell_type": "code",
   "execution_count": 151,
   "id": "87457f46",
   "metadata": {},
   "outputs": [
    {
     "name": "stdout",
     "output_type": "stream",
     "text": [
      "<class 'pandas.core.frame.DataFrame'>\n",
      "RangeIndex: 15919 entries, 0 to 15918\n",
      "Data columns (total 54 columns):\n",
      " #   Column                         Non-Null Count  Dtype  \n",
      "---  ------                         --------------  -----  \n",
      " 0   url                            15919 non-null  object \n",
      " 1   make_model                     15919 non-null  object \n",
      " 2   short_description              15873 non-null  object \n",
      " 3   body_type                      15859 non-null  object \n",
      " 4   price                          15919 non-null  int64  \n",
      " 5   vat                            11406 non-null  object \n",
      " 6   km                             15919 non-null  object \n",
      " 7   registration                   15919 non-null  object \n",
      " 8   prev_owner                     9091 non-null   object \n",
      " 9   kW                             0 non-null      float64\n",
      " 10  hp                             15919 non-null  object \n",
      " 11  Type                           15917 non-null  object \n",
      " 12  Previous Owners                9279 non-null   object \n",
      " 13  Next Inspection                3535 non-null   object \n",
      " 14  Inspection new                 3932 non-null   object \n",
      " 15  Warranty                       10499 non-null  object \n",
      " 16  Full Service                   8215 non-null   object \n",
      " 17  Non-smoking Vehicle            7177 non-null   object \n",
      " 18  null                           15919 non-null  object \n",
      " 19  Make                           15919 non-null  object \n",
      " 20  Model                          15919 non-null  object \n",
      " 21  Offer Number                   12744 non-null  object \n",
      " 22  First Registration             14322 non-null  object \n",
      " 23  Body Color                     15322 non-null  object \n",
      " 24  Paint Type                     10147 non-null  object \n",
      " 25  Body Color Original            12160 non-null  object \n",
      " 26  Upholstery                     12199 non-null  object \n",
      " 27  Body                           15859 non-null  object \n",
      " 28  Nr. of Doors                   15707 non-null  object \n",
      " 29  Nr. of Seats                   14942 non-null  object \n",
      " 30  Model Code                     4978 non-null   object \n",
      " 31  Gearing Type                   15919 non-null  object \n",
      " 32  Displacement                   15423 non-null  object \n",
      " 33  Cylinders                      10239 non-null  object \n",
      " 34  Weight                         8945 non-null   object \n",
      " 35  Drive chain                    9061 non-null   object \n",
      " 36  Fuel                           15919 non-null  object \n",
      " 37  Consumption                    14013 non-null  object \n",
      " 38  CO2 Emission                   14111 non-null  object \n",
      " 39  Emission Class                 12898 non-null  object \n",
      " 40  \n",
      "Comfort & Convenience\n",
      "        14999 non-null  object \n",
      " 41  \n",
      "Entertainment & Media\n",
      "        14545 non-null  object \n",
      " 42  \n",
      "Extras\n",
      "                       12957 non-null  object \n",
      " 43  \n",
      "Safety & Security\n",
      "            14937 non-null  object \n",
      " 44  description                    15919 non-null  object \n",
      " 45  Emission Label                 3985 non-null   object \n",
      " 46  Gears                          11207 non-null  object \n",
      " 47  Country version                7586 non-null   object \n",
      " 48  Electricity consumption        137 non-null    object \n",
      " 49  Last Service Date              566 non-null    object \n",
      " 50  Other Fuel Types               880 non-null    object \n",
      " 51  Availability                   635 non-null    object \n",
      " 52  Last Timing Belt Service Date  16 non-null     object \n",
      " 53  Available from                 272 non-null    object \n",
      "dtypes: float64(1), int64(1), object(52)\n",
      "memory usage: 6.6+ MB\n"
     ]
    }
   ],
   "source": [
    "df.info()"
   ]
  },
  {
   "cell_type": "code",
   "execution_count": 152,
   "id": "e0c28c77",
   "metadata": {},
   "outputs": [],
   "source": [
    "df = df.drop(\"kW\", axis=1)\n",
    "# kW column dropped\n"
   ]
  },
  {
   "cell_type": "code",
   "execution_count": 153,
   "id": "c78800eb",
   "metadata": {},
   "outputs": [
    {
     "name": "stderr",
     "output_type": "stream",
     "text": [
      "<ipython-input-153-7597322c733e>:1: FutureWarning: The default value of regex will change from True to False in a future version.\n",
      "  df.hp = df.hp.str.replace(r'[A-Za-z -]', \"\")\n"
     ]
    },
    {
     "data": {
      "text/plain": [
       "0         66\n",
       "1        141\n",
       "2         85\n",
       "3         66\n",
       "4         66\n",
       "        ... \n",
       "15914    147\n",
       "15915    165\n",
       "15916    146\n",
       "15917    147\n",
       "15918    165\n",
       "Name: hp, Length: 15919, dtype: object"
      ]
     },
     "execution_count": 153,
     "metadata": {},
     "output_type": "execute_result"
    }
   ],
   "source": [
    "df.hp = df.hp.str.replace(r'[A-Za-z -]', \"\")\n",
    "df.hp"
   ]
  },
  {
   "cell_type": "code",
   "execution_count": 154,
   "id": "ff79a637",
   "metadata": {},
   "outputs": [],
   "source": [
    "df.hp = pd.to_numeric(df.hp)"
   ]
  },
  {
   "cell_type": "code",
   "execution_count": 155,
   "id": "2683a04c",
   "metadata": {},
   "outputs": [
    {
     "data": {
      "text/plain": [
       "0                  Used\n",
       "1                  Used\n",
       "2                  Used\n",
       "3                  Used\n",
       "4                  Used\n",
       "              ...      \n",
       "15914               New\n",
       "15915              Used\n",
       "15916    Pre-registered\n",
       "15917    Pre-registered\n",
       "15918     Demonstration\n",
       "Name: Type, Length: 15919, dtype: object"
      ]
     },
     "execution_count": 155,
     "metadata": {},
     "output_type": "execute_result"
    }
   ],
   "source": [
    "# taking only first part of type columns as \"used\" etc.\n",
    "\n",
    "df.Type = df.Type.astype(\"str\").str.findall(r'[A-Za-z-]+').apply(lambda x : x[0])\n",
    "df.Type"
   ]
  },
  {
   "cell_type": "code",
   "execution_count": 156,
   "id": "ae55f573",
   "metadata": {},
   "outputs": [
    {
     "data": {
      "text/plain": [
       "0                  Used\n",
       "1                  Used\n",
       "2                  Used\n",
       "3                  Used\n",
       "4                  Used\n",
       "              ...      \n",
       "15914               New\n",
       "15915              Used\n",
       "15916    Pre-registered\n",
       "15917    Pre-registered\n",
       "15918     Demonstration\n",
       "Name: Type, Length: 15919, dtype: object"
      ]
     },
     "execution_count": 156,
     "metadata": {},
     "output_type": "execute_result"
    }
   ],
   "source": [
    "df.Type"
   ]
  },
  {
   "cell_type": "code",
   "execution_count": null,
   "id": "1339cf58",
   "metadata": {},
   "outputs": [],
   "source": []
  },
  {
   "cell_type": "code",
   "execution_count": 157,
   "id": "527a6fc8",
   "metadata": {},
   "outputs": [
    {
     "data": {
      "text/plain": [
       "0         2  \n",
       "1        None\n",
       "2         1  \n",
       "3         1  \n",
       "4         1  \n",
       "         ... \n",
       "15914    None\n",
       "15915     1  \n",
       "15916     1  \n",
       "15917    None\n",
       "15918     1  \n",
       "Name: prev_owner, Length: 15919, dtype: object"
      ]
     },
     "execution_count": 157,
     "metadata": {},
     "output_type": "execute_result"
    }
   ],
   "source": [
    "df.prev_owner = df.prev_owner.str.replace('[A-Za-z]','',regex=True)\n",
    "df.prev_owner"
   ]
  },
  {
   "cell_type": "code",
   "execution_count": 158,
   "id": "2d8d3630",
   "metadata": {},
   "outputs": [],
   "source": [
    "def list_destroyer(x):\n",
    "    if len(x)>0 :\n",
    "        return x[0]"
   ]
  },
  {
   "cell_type": "code",
   "execution_count": 159,
   "id": "e671c5c5",
   "metadata": {},
   "outputs": [
    {
     "data": {
      "text/plain": [
       "0        2016\n",
       "1        2017\n",
       "2        2016\n",
       "3        2016\n",
       "4        2016\n",
       "         ... \n",
       "15914    None\n",
       "15915    2019\n",
       "15916    2019\n",
       "15917    2019\n",
       "15918    2019\n",
       "Name: First Registration, Length: 15919, dtype: object"
      ]
     },
     "execution_count": 159,
     "metadata": {},
     "output_type": "execute_result"
    }
   ],
   "source": [
    "# Since some of null values refers to \"0\", we will use registeration dates to find non-used cars \n",
    "#and will refill some of null values.\n",
    "df[\"First Registration\"] = df[\"First Registration\"].astype(\"str\").str.findall(r'[0-9]+').apply(list_destroyer)\n",
    "df[\"First Registration\"]\n"
   ]
  },
  {
   "cell_type": "code",
   "execution_count": 160,
   "id": "8d783f76",
   "metadata": {},
   "outputs": [
    {
     "name": "stderr",
     "output_type": "stream",
     "text": [
      "<ipython-input-160-70c81092061c>:5: SettingWithCopyWarning: \n",
      "A value is trying to be set on a copy of a slice from a DataFrame\n",
      "\n",
      "See the caveats in the documentation: https://pandas.pydata.org/pandas-docs/stable/user_guide/indexing.html#returning-a-view-versus-a-copy\n",
      "  df.prev_owner[count]=0\n"
     ]
    }
   ],
   "source": [
    "count = 0\n",
    "while count < len(df.prev_owner):\n",
    "    for i in df[\"First Registration\"]:\n",
    "        if i == \"2019\":\n",
    "            df.prev_owner[count]=0\n",
    "        count +=1        \n",
    "        "
   ]
  },
  {
   "cell_type": "code",
   "execution_count": 161,
   "id": "d9373bff",
   "metadata": {},
   "outputs": [
    {
     "data": {
      "text/plain": [
       "0        2.0\n",
       "1        NaN\n",
       "2        1.0\n",
       "3        1.0\n",
       "4        1.0\n",
       "        ... \n",
       "15914    NaN\n",
       "15915    0.0\n",
       "15916    0.0\n",
       "15917    0.0\n",
       "15918    0.0\n",
       "Name: prev_owner, Length: 15919, dtype: float64"
      ]
     },
     "execution_count": 161,
     "metadata": {},
     "output_type": "execute_result"
    }
   ],
   "source": [
    "pd.to_numeric(df.prev_owner)"
   ]
  },
  {
   "cell_type": "code",
   "execution_count": 162,
   "id": "cdbcea69",
   "metadata": {},
   "outputs": [],
   "source": [
    "df[\"Next Inspection\"] = df[\"Next Inspection\"].astype(\"str\").str.findall(r'\\d\\d.\\d\\d\\d\\d').apply(list_destroyer)"
   ]
  },
  {
   "cell_type": "code",
   "execution_count": 163,
   "id": "8e291acb",
   "metadata": {},
   "outputs": [
    {
     "data": {
      "text/plain": [
       "0       2021-06-01\n",
       "1              NaT\n",
       "2              NaT\n",
       "3              NaT\n",
       "4              NaT\n",
       "           ...    \n",
       "15914          NaT\n",
       "15915   2022-01-01\n",
       "15916          NaT\n",
       "15917          NaT\n",
       "15918          NaT\n",
       "Name: Next Inspection, Length: 15919, dtype: datetime64[ns]"
      ]
     },
     "execution_count": 163,
     "metadata": {},
     "output_type": "execute_result"
    }
   ],
   "source": [
    "pd.to_datetime(df[\"Next Inspection\"])"
   ]
  },
  {
   "cell_type": "code",
   "execution_count": 164,
   "id": "f22d2f67",
   "metadata": {},
   "outputs": [
    {
     "data": {
      "text/plain": [
       "0         Yes\n",
       "1        None\n",
       "2        None\n",
       "3        None\n",
       "4         Yes\n",
       "         ... \n",
       "15914    None\n",
       "15915    None\n",
       "15916     Yes\n",
       "15917    None\n",
       "15918     Yes\n",
       "Name: Inspection new, Length: 15919, dtype: object"
      ]
     },
     "execution_count": 164,
     "metadata": {},
     "output_type": "execute_result"
    }
   ],
   "source": [
    "df[\"Inspection new\"] = df[\"Inspection new\"].astype(\"str\").str.findall(r'[A-Z][a-z]+').apply(list_destroyer)\n",
    "df[\"Inspection new\"]"
   ]
  },
  {
   "cell_type": "code",
   "execution_count": 165,
   "id": "495f328f",
   "metadata": {},
   "outputs": [],
   "source": [
    "df = df.drop([\"Warranty\",\"Full Service\", \"Non-smoking Vehicle\"], axis = 1)"
   ]
  },
  {
   "cell_type": "code",
   "execution_count": 166,
   "id": "c4c51cc6",
   "metadata": {},
   "outputs": [],
   "source": [
    "df = df.drop(\"null\", axis = 1) "
   ]
  },
  {
   "cell_type": "code",
   "execution_count": 167,
   "id": "0232e8bc",
   "metadata": {},
   "outputs": [
    {
     "data": {
      "text/plain": [
       "0           Audi\n",
       "1           Audi\n",
       "2           Audi\n",
       "3           Audi\n",
       "4           Audi\n",
       "          ...   \n",
       "15914    Renault\n",
       "15915    Renault\n",
       "15916    Renault\n",
       "15917    Renault\n",
       "15918    Renault\n",
       "Name: Brand, Length: 15919, dtype: object"
      ]
     },
     "execution_count": 167,
     "metadata": {},
     "output_type": "execute_result"
    }
   ],
   "source": [
    "df = df.rename(columns= {\"Make\":\"Brand\"} )\n",
    "df.Brand = df.Brand.astype(\"str\").str.findall(r'[A-Z][a-z]+').apply(list_destroyer)\n",
    "df.Brand"
   ]
  },
  {
   "cell_type": "code",
   "execution_count": 168,
   "id": "da3eb6eb",
   "metadata": {},
   "outputs": [],
   "source": [
    "df.Model = df.Model.astype(\"str\").str.findall(r'[A-Z][a-z0-9]+').apply(list_destroyer)"
   ]
  },
  {
   "cell_type": "code",
   "execution_count": 169,
   "id": "b654ee5c",
   "metadata": {},
   "outputs": [
    {
     "data": {
      "text/plain": [
       "0             LR-062483\n",
       "1                   nan\n",
       "2              AM-95365\n",
       "3                   nan\n",
       "4                 C1626\n",
       "              ...      \n",
       "15914          10988301\n",
       "15915       507370_3223\n",
       "15916          Espace16\n",
       "15917           2691331\n",
       "15918    Re_30000008029\n",
       "Name: Offer Number, Length: 15919, dtype: object"
      ]
     },
     "execution_count": 169,
     "metadata": {},
     "output_type": "execute_result"
    }
   ],
   "source": [
    "df[\"Offer Number\"] = df[\"Offer Number\"].astype(\"str\").apply(lambda x : x.replace(\"['\\\\n\",\"\").replace(\"\\\\n']\", \"\"))\n",
    "df[\"Offer Number\"]"
   ]
  },
  {
   "cell_type": "code",
   "execution_count": 170,
   "id": "0142f193",
   "metadata": {},
   "outputs": [
    {
     "data": {
      "text/plain": [
       "0        Black\n",
       "1          Red\n",
       "2        Black\n",
       "3        Brown\n",
       "4        Black\n",
       "         ...  \n",
       "15914     Grey\n",
       "15915     Grey\n",
       "15916    White\n",
       "15917     Grey\n",
       "15918     Grey\n",
       "Name: Body Color, Length: 15919, dtype: object"
      ]
     },
     "execution_count": 170,
     "metadata": {},
     "output_type": "execute_result"
    }
   ],
   "source": [
    "df[\"Body Color\"] = df[\"Body Color\"].astype(\"str\").str.findall(r'[A-Z][a-z0-9]+').apply(list_destroyer)\n",
    "df[\"Body Color\"] "
   ]
  },
  {
   "cell_type": "code",
   "execution_count": 171,
   "id": "b95f91b4",
   "metadata": {},
   "outputs": [
    {
     "data": {
      "text/plain": [
       "0        Metallic\n",
       "1            None\n",
       "2        Metallic\n",
       "3        Metallic\n",
       "4        Metallic\n",
       "           ...   \n",
       "15914    Metallic\n",
       "15915    Metallic\n",
       "15916        None\n",
       "15917        None\n",
       "15918    Metallic\n",
       "Name: Paint Type, Length: 15919, dtype: object"
      ]
     },
     "execution_count": 171,
     "metadata": {},
     "output_type": "execute_result"
    }
   ],
   "source": [
    "df[\"Paint Type\"] = df[\"Paint Type\"].astype(\"str\").str.findall(r'[A-Z][a-z0-9/]+').apply(list_destroyer)\n",
    "df[\"Paint Type\"]"
   ]
  },
  {
   "cell_type": "code",
   "execution_count": 172,
   "id": "c10ecdfb",
   "metadata": {},
   "outputs": [
    {
     "data": {
      "text/plain": [
       "0                 Mythosschwarz\n",
       "1                           nan\n",
       "2        mythosschwarz metallic\n",
       "3                           nan\n",
       "4        Mythosschwarz Metallic\n",
       "                  ...          \n",
       "15914              Grigio scuro\n",
       "15915       Stahl-Grau Metallic\n",
       "15916               arktis-weiß\n",
       "15917                    Grigio\n",
       "15918    Titanium-Grau Metallic\n",
       "Name: Body Color Original, Length: 15919, dtype: object"
      ]
     },
     "execution_count": 172,
     "metadata": {},
     "output_type": "execute_result"
    }
   ],
   "source": [
    "df[\"Body Color Original\"] = df[\"Body Color Original\"].astype(\"str\").apply(lambda x : x.replace(\"['\\\\n\",\"\").replace(\"\\\\n']\", \"\"))\n",
    "df[\"Body Color Original\"]\n"
   ]
  },
  {
   "cell_type": "code",
   "execution_count": 173,
   "id": "f39c7568",
   "metadata": {},
   "outputs": [],
   "source": [
    "def list_divider(x):\n",
    "    if len(x)>0:\n",
    "        if len(x)==1:\n",
    "            return x[0]\n",
    "        elif len(x)==3:\n",
    "            return x[0]+\" \"+x[1]+\" \"+x[2]\n",
    "        else:\n",
    "            return x[0]+\",\"+x[1]"
   ]
  },
  {
   "cell_type": "code",
   "execution_count": 174,
   "id": "6f6970cf",
   "metadata": {},
   "outputs": [
    {
     "data": {
      "text/plain": [
       "0        Cloth,Black\n",
       "1         Cloth,Grey\n",
       "2        Cloth,Black\n",
       "3               None\n",
       "4        Cloth,Black\n",
       "            ...     \n",
       "15914           None\n",
       "15915          Cloth\n",
       "15916     Full,Black\n",
       "15917           Part\n",
       "15918     Full,Brown\n",
       "Name: Upholstery, Length: 15919, dtype: object"
      ]
     },
     "execution_count": 174,
     "metadata": {},
     "output_type": "execute_result"
    }
   ],
   "source": [
    "df[\"Upholstery\"].astype(\"str\").str.findall(r'[A-Z][a-z]+').apply(list_divider)\n"
   ]
  },
  {
   "cell_type": "code",
   "execution_count": 175,
   "id": "72125aa4",
   "metadata": {},
   "outputs": [
    {
     "data": {
      "text/plain": [
       "0        Sedans\n",
       "1        Sedans\n",
       "2        Sedans\n",
       "3        Sedans\n",
       "4        Sedans\n",
       "          ...  \n",
       "15914       Van\n",
       "15915       Van\n",
       "15916       Van\n",
       "15917       Van\n",
       "15918       Van\n",
       "Name: Body, Length: 15919, dtype: object"
      ]
     },
     "execution_count": 175,
     "metadata": {},
     "output_type": "execute_result"
    }
   ],
   "source": [
    "df.Body = df[\"Body\"].astype(\"str\").str.findall(r'[A-Z][a-z ]+').apply(list_destroyer)\n",
    "df.Body"
   ]
  },
  {
   "cell_type": "code",
   "execution_count": 176,
   "id": "e6e68321",
   "metadata": {},
   "outputs": [
    {
     "data": {
      "text/plain": [
       "0        5\n",
       "1        3\n",
       "2        4\n",
       "3        3\n",
       "4        5\n",
       "        ..\n",
       "15914    5\n",
       "15915    5\n",
       "15916    5\n",
       "15917    5\n",
       "15918    5\n",
       "Name: Nr. of Doors, Length: 15919, dtype: object"
      ]
     },
     "execution_count": 176,
     "metadata": {},
     "output_type": "execute_result"
    }
   ],
   "source": [
    "df[\"Nr. of Doors\"] = df[\"Nr. of Doors\"].astype(\"str\").str.findall(r'\\d').apply(list_destroyer)\n",
    "df[\"Nr. of Doors\"]"
   ]
  },
  {
   "cell_type": "code",
   "execution_count": 177,
   "id": "b80b86bd",
   "metadata": {},
   "outputs": [
    {
     "data": {
      "text/plain": [
       "0        5\n",
       "1        3\n",
       "2        4\n",
       "3        3\n",
       "4        5\n",
       "        ..\n",
       "15914    5\n",
       "15915    5\n",
       "15916    5\n",
       "15917    5\n",
       "15918    5\n",
       "Name: Nr. of Seats, Length: 15919, dtype: object"
      ]
     },
     "execution_count": 177,
     "metadata": {},
     "output_type": "execute_result"
    }
   ],
   "source": [
    "df[\"Nr. of Seats\"] = df[\"Nr. of Doors\"].astype(\"str\").str.findall(r'\\d').apply(list_destroyer)\n",
    "df[\"Nr. of Seats\"]"
   ]
  },
  {
   "cell_type": "code",
   "execution_count": 178,
   "id": "d92af10f",
   "metadata": {},
   "outputs": [
    {
     "data": {
      "text/plain": [
       "0        0588/BDF\n",
       "1        0588/BCY\n",
       "2            None\n",
       "3            None\n",
       "4        0588/BDF\n",
       "           ...   \n",
       "15914        None\n",
       "15915        None\n",
       "15916        None\n",
       "15917        None\n",
       "15918    3333/BHJ\n",
       "Name: Model Code, Length: 15919, dtype: object"
      ]
     },
     "execution_count": 178,
     "metadata": {},
     "output_type": "execute_result"
    }
   ],
   "source": [
    "df[\"Model Code\"] = df[\"Model Code\"].astype(\"str\").str.findall(r'[0-9/]+[A-Z]+').apply(list_destroyer)\n",
    "df[\"Model Code\"]"
   ]
  },
  {
   "cell_type": "code",
   "execution_count": 179,
   "id": "afe79d04",
   "metadata": {},
   "outputs": [
    {
     "data": {
      "text/plain": [
       "array(['Automatic', 'Manual', 'Semi'], dtype=object)"
      ]
     },
     "execution_count": 179,
     "metadata": {},
     "output_type": "execute_result"
    }
   ],
   "source": [
    "df[\"Gearing Type\"] = df[\"Gearing Type\"].astype(\"str\").str.findall(r'[A-Z][a-z]+').apply(list_destroyer)\n",
    "df[\"Gearing Type\"].unique()"
   ]
  },
  {
   "cell_type": "code",
   "execution_count": 180,
   "id": "c4caee99",
   "metadata": {},
   "outputs": [
    {
     "data": {
      "text/plain": [
       "0        1422\n",
       "1        1798\n",
       "2        1598\n",
       "3        1422\n",
       "4        1422\n",
       "         ... \n",
       "15914    1997\n",
       "15915    1798\n",
       "15916    1997\n",
       "15917    1997\n",
       "15918    1798\n",
       "Name: Displacement, Length: 15919, dtype: object"
      ]
     },
     "execution_count": 180,
     "metadata": {},
     "output_type": "execute_result"
    }
   ],
   "source": [
    "df[\"Displacement\"] = df[\"Displacement\"].astype(\"str\").str.findall(r'[0-9]+').apply(list_divider).str.replace(\",\",\"\")\n",
    "df[\"Displacement\"]"
   ]
  },
  {
   "cell_type": "code",
   "execution_count": 181,
   "id": "3429a2c6",
   "metadata": {},
   "outputs": [
    {
     "data": {
      "text/plain": [
       "0           3\n",
       "1           4\n",
       "2        None\n",
       "3           3\n",
       "4           3\n",
       "         ... \n",
       "15914       4\n",
       "15915       4\n",
       "15916       4\n",
       "15917       4\n",
       "15918       4\n",
       "Name: Cylinders, Length: 15919, dtype: object"
      ]
     },
     "execution_count": 181,
     "metadata": {},
     "output_type": "execute_result"
    }
   ],
   "source": [
    "df[\"Cylinders\"] = df[\"Cylinders\"].astype(\"str\").str.findall(r'\\d').apply(list_destroyer)\n",
    "df[\"Cylinders\"]"
   ]
  },
  {
   "cell_type": "code",
   "execution_count": 182,
   "id": "1f892e0e",
   "metadata": {},
   "outputs": [
    {
     "data": {
      "text/plain": [
       "0        1220\n",
       "1        1255\n",
       "2        None\n",
       "3        1195\n",
       "4        None\n",
       "         ... \n",
       "15914    1758\n",
       "15915    1708\n",
       "15916    None\n",
       "15917    1758\n",
       "15918    1685\n",
       "Name: Weight, Length: 15919, dtype: object"
      ]
     },
     "execution_count": 182,
     "metadata": {},
     "output_type": "execute_result"
    }
   ],
   "source": [
    "df[\"Weight\"] = df[\"Weight\"].astype(\"str\").str.findall(r'[0-9]+').apply(list_divider).str.replace(\",\",\"\")\n",
    "df[\"Weight\"]"
   ]
  },
  {
   "cell_type": "code",
   "execution_count": 183,
   "id": "c339a5e6",
   "metadata": {},
   "outputs": [
    {
     "name": "stderr",
     "output_type": "stream",
     "text": [
      "<ipython-input-183-e2be8b564026>:7: SettingWithCopyWarning: \n",
      "A value is trying to be set on a copy of a slice from a DataFrame\n",
      "\n",
      "See the caveats in the documentation: https://pandas.pydata.org/pandas-docs/stable/user_guide/indexing.html#returning-a-view-versus-a-copy\n",
      "  df[\"Drive chain\"][count]=\"front\"\n",
      "<ipython-input-183-e2be8b564026>:13: SettingWithCopyWarning: \n",
      "A value is trying to be set on a copy of a slice from a DataFrame\n",
      "\n",
      "See the caveats in the documentation: https://pandas.pydata.org/pandas-docs/stable/user_guide/indexing.html#returning-a-view-versus-a-copy\n",
      "  df[\"Drive chain\"][count]=\"Null\"\n",
      "<ipython-input-183-e2be8b564026>:10: SettingWithCopyWarning: \n",
      "A value is trying to be set on a copy of a slice from a DataFrame\n",
      "\n",
      "See the caveats in the documentation: https://pandas.pydata.org/pandas-docs/stable/user_guide/indexing.html#returning-a-view-versus-a-copy\n",
      "  df[\"Drive chain\"][count]=\"front\"\n"
     ]
    }
   ],
   "source": [
    "h = df[\"Drive chain\"].astype(\"str\").str.findall(r'[a-z]+').apply(list_destroyer)\n",
    "\n",
    "count = 0\n",
    "while count < len(h):\n",
    "  for i in h:\n",
    "    if i == 'nfront':\n",
    "        df[\"Drive chain\"][count]=\"front\"\n",
    "        count +=1\n",
    "    elif i == 'nrear':\n",
    "        df[\"Drive chain\"][count]=\"front\"\n",
    "        count +=1\n",
    "    else:\n",
    "        df[\"Drive chain\"][count]=\"Null\"\n",
    "        count +=1"
   ]
  },
  {
   "cell_type": "code",
   "execution_count": 184,
   "id": "37acc0cc",
   "metadata": {},
   "outputs": [
    {
     "data": {
      "text/plain": [
       "0        front\n",
       "1        front\n",
       "2        front\n",
       "3         Null\n",
       "4        front\n",
       "         ...  \n",
       "15914    front\n",
       "15915    front\n",
       "15916    front\n",
       "15917    front\n",
       "15918     Null\n",
       "Name: Drive chain, Length: 15919, dtype: object"
      ]
     },
     "execution_count": 184,
     "metadata": {},
     "output_type": "execute_result"
    }
   ],
   "source": [
    "df[\"Drive chain\"]"
   ]
  },
  {
   "cell_type": "code",
   "execution_count": 185,
   "id": "368a71ca",
   "metadata": {
    "scrolled": true
   },
   "outputs": [
    {
     "data": {
      "text/plain": [
       "0        Diesel Particulate Filter\n",
       "1                         Gasoline\n",
       "2        Diesel Particulate Filter\n",
       "3        Diesel Particulate Filter\n",
       "4        Diesel Particulate Filter\n",
       "                   ...            \n",
       "15914    Diesel Particulate Filter\n",
       "15915                  Super,Super\n",
       "15916                       Diesel\n",
       "15917                       Diesel\n",
       "15918                        Super\n",
       "Name: Fuel, Length: 15919, dtype: object"
      ]
     },
     "execution_count": 185,
     "metadata": {},
     "output_type": "execute_result"
    }
   ],
   "source": [
    "df.Fuel = df.Fuel.astype(\"str\").str.findall(r'[A-Z][a-z(]+').apply(list_divider)\n",
    "df.Fuel"
   ]
  },
  {
   "cell_type": "code",
   "execution_count": 186,
   "id": "86871620",
   "metadata": {},
   "outputs": [],
   "source": [
    "total_fuel = df.Consumption.astype(\"str\").str.findall(r\"[0-9]+?\\.[0-9]+\")"
   ]
  },
  {
   "cell_type": "code",
   "execution_count": 187,
   "id": "9761769d",
   "metadata": {},
   "outputs": [],
   "source": [
    "def second_element(x):\n",
    "    if len(x)>1:\n",
    "        return x[1]"
   ]
  },
  {
   "cell_type": "code",
   "execution_count": 188,
   "id": "26956f45",
   "metadata": {},
   "outputs": [],
   "source": [
    "def third_element(x):\n",
    "    if len(x)>2:\n",
    "        return x[2]"
   ]
  },
  {
   "cell_type": "code",
   "execution_count": 189,
   "id": "b9ca6e06",
   "metadata": {},
   "outputs": [
    {
     "data": {
      "text/plain": [
       "0        3.8\n",
       "1        5.6\n",
       "2        3.8\n",
       "3        3.8\n",
       "4        4.1\n",
       "        ... \n",
       "15914    5.3\n",
       "15915    7.4\n",
       "15916    5.3\n",
       "15917    5.3\n",
       "15918    6.8\n",
       "Name: combined_fuel, Length: 15919, dtype: object"
      ]
     },
     "execution_count": 189,
     "metadata": {},
     "output_type": "execute_result"
    }
   ],
   "source": [
    "df[\"combined_fuel\"] = total_fuel.apply(list_destroyer)\n",
    "df[\"combined_fuel\"]"
   ]
  },
  {
   "cell_type": "code",
   "execution_count": 190,
   "id": "c6f1f465",
   "metadata": {},
   "outputs": [
    {
     "data": {
      "text/plain": [
       "0        4.3\n",
       "1        7.1\n",
       "2        4.4\n",
       "3        4.3\n",
       "4        4.6\n",
       "        ... \n",
       "15914    6.2\n",
       "15915    9.2\n",
       "15916    6.2\n",
       "15917    6.2\n",
       "15918    8.7\n",
       "Name: city_fuel, Length: 15919, dtype: object"
      ]
     },
     "execution_count": 190,
     "metadata": {},
     "output_type": "execute_result"
    }
   ],
   "source": [
    "df[\"city_fuel\"] = total_fuel.apply(second_element)\n",
    "df[\"city_fuel\"]"
   ]
  },
  {
   "cell_type": "code",
   "execution_count": 191,
   "id": "761a42ed",
   "metadata": {},
   "outputs": [
    {
     "data": {
      "text/plain": [
       "0        3.5\n",
       "1        4.7\n",
       "2        3.4\n",
       "3        3.5\n",
       "4        3.8\n",
       "        ... \n",
       "15914    4.7\n",
       "15915    6.3\n",
       "15916    4.7\n",
       "15917    4.7\n",
       "15918    5.7\n",
       "Name: country_fuel, Length: 15919, dtype: object"
      ]
     },
     "execution_count": 191,
     "metadata": {},
     "output_type": "execute_result"
    }
   ],
   "source": [
    "df[\"country_fuel\"] = df.Consumption.astype(\"str\").str.findall(r\"[0-9]+?\\.[0-9]+\").apply(third_element)\n",
    "df[\"country_fuel\"]"
   ]
  },
  {
   "cell_type": "code",
   "execution_count": 192,
   "id": "4fcf6362",
   "metadata": {},
   "outputs": [
    {
     "data": {
      "text/plain": [
       "0         99\n",
       "1        129\n",
       "2         99\n",
       "3         99\n",
       "4        109\n",
       "        ... \n",
       "15914    139\n",
       "15915    168\n",
       "15916    139\n",
       "15917    139\n",
       "15918    153\n",
       "Name: CO2 Emission, Length: 15919, dtype: object"
      ]
     },
     "execution_count": 192,
     "metadata": {},
     "output_type": "execute_result"
    }
   ],
   "source": [
    "df[\"CO2 Emission\"] = df[\"CO2 Emission\"].astype(\"str\").str.findall(r\"\\d\\d\\d?\").apply(list_destroyer)\n",
    "df[\"CO2 Emission\"]"
   ]
  },
  {
   "cell_type": "code",
   "execution_count": 193,
   "id": "77f0f57b",
   "metadata": {},
   "outputs": [
    {
     "data": {
      "text/plain": [
       "array(['Euro 6', None, 'Euro 5', 'Euro 6d', 'Euro 6c', 'Euro 4'],\n",
       "      dtype=object)"
      ]
     },
     "execution_count": 193,
     "metadata": {},
     "output_type": "execute_result"
    }
   ],
   "source": [
    "df[\"Emission Class\"] = df[\"Emission Class\"].astype(\"str\").str.findall(r\"[A-Z][a-z 0-9]+\").apply(list_destroyer)\n",
    "df[\"Emission Class\"].unique()"
   ]
  },
  {
   "cell_type": "code",
   "execution_count": 194,
   "id": "35b03ab8",
   "metadata": {},
   "outputs": [],
   "source": [
    "df = df.rename(columns={\"\\nComfort & Convenience\\n\": \"Comfort\"})"
   ]
  },
  {
   "cell_type": "code",
   "execution_count": 195,
   "id": "f1552f88",
   "metadata": {},
   "outputs": [
    {
     "name": "stderr",
     "output_type": "stream",
     "text": [
      "<ipython-input-195-e5ae5b7c294c>:1: FutureWarning: The default value of regex will change from True to False in a future version. In addition, single character regular expressions will*not* be treated as literal strings when regex=True.\n",
      "  df.Comfort = df.Comfort.astype(\"str\").str.replace(\"[\",\"\").str.replace(\"]\",\"\")\n"
     ]
    },
    {
     "data": {
      "text/plain": [
       "0        'Air conditioning', 'Armrest', 'Automatic clim...\n",
       "1        'Air conditioning', 'Automatic climate control...\n",
       "2        'Air conditioning', 'Cruise control', 'Electri...\n",
       "3        'Air suspension', 'Armrest', 'Auxiliary heatin...\n",
       "4        'Air conditioning', 'Armrest', 'Automatic clim...\n",
       "                               ...                        \n",
       "15914    'Air conditioning', 'Automatic climate control...\n",
       "15915    'Air conditioning', 'Automatic climate control...\n",
       "15916    'Air conditioning', 'Armrest', 'Automatic clim...\n",
       "15917    'Air conditioning', 'Automatic climate control...\n",
       "15918    'Air conditioning', 'Automatic climate control...\n",
       "Name: Comfort, Length: 15919, dtype: object"
      ]
     },
     "execution_count": 195,
     "metadata": {},
     "output_type": "execute_result"
    }
   ],
   "source": [
    "df.Comfort = df.Comfort.astype(\"str\").str.replace(\"[\",\"\").str.replace(\"]\",\"\")\n",
    "df.Comfort"
   ]
  },
  {
   "cell_type": "code",
   "execution_count": 196,
   "id": "b736a7aa",
   "metadata": {},
   "outputs": [],
   "source": [
    "df = df.rename(columns={\"\\nEntertainment & Media\\n\": \"Entertainment\"})\n"
   ]
  },
  {
   "cell_type": "code",
   "execution_count": 197,
   "id": "9679cc02",
   "metadata": {},
   "outputs": [
    {
     "name": "stderr",
     "output_type": "stream",
     "text": [
      "<ipython-input-197-a172eb596c28>:1: FutureWarning: The default value of regex will change from True to False in a future version. In addition, single character regular expressions will*not* be treated as literal strings when regex=True.\n",
      "  df.Entertainment = df.Entertainment.astype(\"str\").str.replace(\"[\",\"\").str.replace(\"]\",\"\")\n"
     ]
    },
    {
     "data": {
      "text/plain": [
       "0        'Bluetooth', 'Hands-free equipment', 'On-board...\n",
       "1        'Bluetooth', 'Hands-free equipment', 'On-board...\n",
       "2                               'MP3', 'On-board computer'\n",
       "3        'Bluetooth', 'CD player', 'Hands-free equipmen...\n",
       "4        'Bluetooth', 'CD player', 'Hands-free equipmen...\n",
       "                               ...                        \n",
       "15914    'Bluetooth', 'Digital radio', 'Hands-free equi...\n",
       "15915    'Bluetooth', 'Digital radio', 'Hands-free equi...\n",
       "15916    'Bluetooth', 'Hands-free equipment', 'On-board...\n",
       "15917         'Bluetooth', 'Digital radio', 'Radio', 'USB'\n",
       "15918                                                'USB'\n",
       "Name: Entertainment, Length: 15919, dtype: object"
      ]
     },
     "execution_count": 197,
     "metadata": {},
     "output_type": "execute_result"
    }
   ],
   "source": [
    "df.Entertainment = df.Entertainment.astype(\"str\").str.replace(\"[\",\"\").str.replace(\"]\",\"\")\n",
    "df.Entertainment"
   ]
  },
  {
   "cell_type": "code",
   "execution_count": 198,
   "id": "58af28f8",
   "metadata": {},
   "outputs": [],
   "source": [
    "df = df.rename(columns={\"\\nExtras\\n\": \"Extras\"})"
   ]
  },
  {
   "cell_type": "code",
   "execution_count": 199,
   "id": "cfdb902d",
   "metadata": {},
   "outputs": [
    {
     "name": "stderr",
     "output_type": "stream",
     "text": [
      "<ipython-input-199-8a4e3c233295>:1: FutureWarning: The default value of regex will change from True to False in a future version. In addition, single character regular expressions will*not* be treated as literal strings when regex=True.\n",
      "  df.Extras = df.Extras.astype(\"str\").str.replace(\"[\",\"\").str.replace(\"]\",\"\")\n"
     ]
    },
    {
     "data": {
      "text/plain": [
       "0        'Alloy wheels', 'Catalytic Converter', 'Voice ...\n",
       "1        'Alloy wheels', 'Sport seats', 'Sport suspensi...\n",
       "2                          'Alloy wheels', 'Voice Control'\n",
       "3           'Alloy wheels', 'Sport seats', 'Voice Control'\n",
       "4        'Alloy wheels', 'Sport package', 'Sport suspen...\n",
       "                               ...                        \n",
       "15914                       'Alloy wheels', 'Touch screen'\n",
       "15915      'Alloy wheels', 'Touch screen', 'Voice Control'\n",
       "15916                                       'Alloy wheels'\n",
       "15917                       'Alloy wheels', 'Touch screen'\n",
       "15918                       'Alloy wheels', 'Touch screen'\n",
       "Name: Extras, Length: 15919, dtype: object"
      ]
     },
     "execution_count": 199,
     "metadata": {},
     "output_type": "execute_result"
    }
   ],
   "source": [
    "df.Extras = df.Extras.astype(\"str\").str.replace(\"[\",\"\").str.replace(\"]\",\"\")\n",
    "df.Extras"
   ]
  },
  {
   "cell_type": "code",
   "execution_count": 200,
   "id": "6229d3b3",
   "metadata": {},
   "outputs": [],
   "source": [
    "df = df.rename(columns={\"\\nSafety & Security\\n\": \"safety_first_operation_always\"})\n",
    "\n"
   ]
  },
  {
   "cell_type": "code",
   "execution_count": 201,
   "id": "54bd31e8",
   "metadata": {},
   "outputs": [
    {
     "name": "stderr",
     "output_type": "stream",
     "text": [
      "<ipython-input-201-7a268b57fcc2>:1: FutureWarning: The default value of regex will change from True to False in a future version. In addition, single character regular expressions will*not* be treated as literal strings when regex=True.\n",
      "  df.safety_first_operation_always = df.safety_first_operation_always.astype(\"str\").str.replace(\"[\",\"\").str.replace(\"]\",\"\")\n"
     ]
    },
    {
     "data": {
      "text/plain": [
       "0        'ABS', 'Central door lock', 'Daytime running l...\n",
       "1        'ABS', 'Central door lock', 'Central door lock...\n",
       "2        'ABS', 'Central door lock', 'Daytime running l...\n",
       "3        'ABS', 'Alarm system', 'Central door lock with...\n",
       "4        'ABS', 'Central door lock', 'Driver-side airba...\n",
       "                               ...                        \n",
       "15914    'ABS', 'Central door lock', 'Central door lock...\n",
       "15915    'ABS', 'Adaptive Cruise Control', 'Blind spot ...\n",
       "15916    'ABS', 'Adaptive Cruise Control', 'Blind spot ...\n",
       "15917    'ABS', 'Blind spot monitor', 'Driver-side airb...\n",
       "15918    'ABS', 'Blind spot monitor', 'Daytime running ...\n",
       "Name: safety_first_operation_always, Length: 15919, dtype: object"
      ]
     },
     "execution_count": 201,
     "metadata": {},
     "output_type": "execute_result"
    }
   ],
   "source": [
    "df.safety_first_operation_always = df.safety_first_operation_always.astype(\"str\").str.replace(\"[\",\"\").str.replace(\"]\",\"\")\n",
    "df.safety_first_operation_always"
   ]
  },
  {
   "cell_type": "code",
   "execution_count": 202,
   "id": "36c56a54",
   "metadata": {},
   "outputs": [
    {
     "name": "stderr",
     "output_type": "stream",
     "text": [
      "<ipython-input-202-b414729d9319>:1: FutureWarning: The default value of regex will change from True to False in a future version. In addition, single character regular expressions will*not* be treated as literal strings when regex=True.\n",
      "  df.description = df.description.astype(\"str\").str.replace(\"[\",\"\").str.replace(\"]\",\"\")\n"
     ]
    },
    {
     "data": {
      "text/plain": [
       "0        '\\n', 'Sicherheit:', ' ', 'Deaktivierung für B...\n",
       "1        '\\nLangstreckenfahrzeug daher die hohe Kilomet...\n",
       "2        '\\n', 'Fahrzeug-Nummer: AM-95365', ' ', 'Ehem....\n",
       "3        '\\nAudi A1: ', '- 1e eigenaar ', '- Perfecte s...\n",
       "4        '\\n', 'Technik & Sicherheit:', 'Xenon plus', '...\n",
       "                               ...                        \n",
       "15914    '\\nVettura visionabile nella sede in Via Roma ...\n",
       "15915    '\\nDach: Panorama-Glas-Schiebedach, Lackierung...\n",
       "15916    '\\n', 'Getriebe:', ' Automatik', 'Technik:', '...\n",
       "15917    '\\nDEK:2691331', 'Renault Espace Blue dCi 200C...\n",
       "15918    '\\n', 'Sicherheit Airbags:', ' ', 'Seitenairba...\n",
       "Name: description, Length: 15919, dtype: object"
      ]
     },
     "execution_count": 202,
     "metadata": {},
     "output_type": "execute_result"
    }
   ],
   "source": [
    "df.description = df.description.astype(\"str\").str.replace(\"[\",\"\").str.replace(\"]\",\"\")\n",
    "df.description"
   ]
  },
  {
   "cell_type": "code",
   "execution_count": 203,
   "id": "2ed2da4d",
   "metadata": {},
   "outputs": [
    {
     "name": "stderr",
     "output_type": "stream",
     "text": [
      "<ipython-input-203-e4363a77073e>:1: FutureWarning: The default value of regex will change from True to False in a future version.\n",
      "  df.description = df.description.str.replace(r\"\\\\n\",\"\")\n"
     ]
    }
   ],
   "source": [
    "df.description = df.description.str.replace(r\"\\\\n\",\"\")"
   ]
  },
  {
   "cell_type": "code",
   "execution_count": 204,
   "id": "f729633e",
   "metadata": {},
   "outputs": [
    {
     "data": {
      "text/plain": [
       "\"'', 'Fahrzeug-Nummer: AM-95365', ' ', 'Ehem. UPE 24.640 EUR', ' ', 'Komfort', ' ', 'Klimaanlage', ' ', 'Elektrische Fensterheber', ' ', 'Sitzheizung', ' ', 'Tempomat', ' ', 'Zentralverriegelung', ' ', 'Leder-Lenkrad', ' ', 'Elektrische Spiegel', ' ', 'Wärmedämmendes Glas', ' ', 'Anfahrassistent', ' ', 'Sicherheit', ' ', 'Window/Kopfairbags', ' ', 'ESP (el. Stabilitäts Programm)', ' ', 'Elektronische Wegfahrsperre', ' ', 'Reifendruckkontrolle', ' ', 'Tagfahrlicht', ' ', 'Exterieur', ' ', 'Alufelgen 16 Zoll', ' ', 'Einparkhilfe vo + hi', ' ', 'Interieur', ' ', 'Stoff Zeitgeist', ' ', 'Interieurfarbe Schwarz', ' ', 'Isofix-System', ' ', 'Mittelarmlehne', ' ', '4 Sitzplätze', ' ', 'Media', ' ', 'MMI® Navigation', ' ', 'AUX-In Anschluss', ' ', 'Radio mit MP3-Option', ' ', 'Audi music interface', ' ', 'Schaltung', ' ', 'Automatikgetriebe', ' ', 'Technik', ' ', 'ABS', ' ', 'Traktionskontrolle', ' ', 'Servo-Lenkung', ' ', 'Fahrer-Info-System', ' ', 'Sprachbedienung', ' ', 'Schadstoffklasse EURO 6', ' ', 'Multifunktionslenkrad', ' ', 'Partikelfilter', ' ', 'Umweltplakette grün', ' ', 'Motor-Start-Stopp-Funktion', ' ', 'Allgemein', ' ', 'Garantie', ' ', 'Sonstiges', ' ', 'Aus erster Hand', ' ', 'Leasing-Fzg', ' ', 'Einparkhilfe vo + hi', ' ', 'Radio', ' ', 'Radio mit MP3-Option', ' ', 'Alufelgen 16 Zoll', ' ', 'AUX-In Anschluss', ' ', 'Fahrer-Info-System', ' ', 'Interieur Stoff', ' ', 'Interieurfarbe Schwarz', ' ', 'Isofix-System', ' ', 'Emissionsärmster Kraftstoff: Diesel', ' ', 'Pakete', ' ', 'media-Paket', ' ', ' ', 'Änderungen, Zwischenverkauf und Irrtümer vorbehalten!', ''\""
      ]
     },
     "execution_count": 204,
     "metadata": {},
     "output_type": "execute_result"
    }
   ],
   "source": [
    "df.description[2]"
   ]
  },
  {
   "cell_type": "code",
   "execution_count": 205,
   "id": "71a7a9b5",
   "metadata": {},
   "outputs": [
    {
     "name": "stdout",
     "output_type": "stream",
     "text": [
      "<class 'pandas.core.frame.DataFrame'>\n",
      "RangeIndex: 15919 entries, 0 to 15918\n",
      "Data columns (total 52 columns):\n",
      " #   Column                         Non-Null Count  Dtype  \n",
      "---  ------                         --------------  -----  \n",
      " 0   url                            15919 non-null  object \n",
      " 1   make_model                     15919 non-null  object \n",
      " 2   short_description              15873 non-null  object \n",
      " 3   body_type                      15859 non-null  object \n",
      " 4   price                          15919 non-null  int64  \n",
      " 5   vat                            11406 non-null  object \n",
      " 6   km                             15919 non-null  object \n",
      " 7   registration                   15919 non-null  object \n",
      " 8   prev_owner                     10365 non-null  object \n",
      " 9   hp                             15831 non-null  float64\n",
      " 10  Type                           15919 non-null  object \n",
      " 11  Previous Owners                9279 non-null   object \n",
      " 12  Next Inspection                3535 non-null   object \n",
      " 13  Inspection new                 3932 non-null   object \n",
      " 14  Brand                          15919 non-null  object \n",
      " 15  Model                          15919 non-null  object \n",
      " 16  Offer Number                   15919 non-null  object \n",
      " 17  First Registration             14322 non-null  object \n",
      " 18  Body Color                     15322 non-null  object \n",
      " 19  Paint Type                     10147 non-null  object \n",
      " 20  Body Color Original            15919 non-null  object \n",
      " 21  Upholstery                     12199 non-null  object \n",
      " 22  Body                           15859 non-null  object \n",
      " 23  Nr. of Doors                   15707 non-null  object \n",
      " 24  Nr. of Seats                   15707 non-null  object \n",
      " 25  Model Code                     4939 non-null   object \n",
      " 26  Gearing Type                   15919 non-null  object \n",
      " 27  Displacement                   15423 non-null  object \n",
      " 28  Cylinders                      10239 non-null  object \n",
      " 29  Weight                         8945 non-null   object \n",
      " 30  Drive chain                    15919 non-null  object \n",
      " 31  Fuel                           15870 non-null  object \n",
      " 32  Consumption                    14013 non-null  object \n",
      " 33  CO2 Emission                   13477 non-null  object \n",
      " 34  Emission Class                 12291 non-null  object \n",
      " 35  Comfort                        15919 non-null  object \n",
      " 36  Entertainment                  15919 non-null  object \n",
      " 37  Extras                         15919 non-null  object \n",
      " 38  safety_first_operation_always  15919 non-null  object \n",
      " 39  description                    15919 non-null  object \n",
      " 40  Emission Label                 3985 non-null   object \n",
      " 41  Gears                          11207 non-null  object \n",
      " 42  Country version                7586 non-null   object \n",
      " 43  Electricity consumption        137 non-null    object \n",
      " 44  Last Service Date              566 non-null    object \n",
      " 45  Other Fuel Types               880 non-null    object \n",
      " 46  Availability                   635 non-null    object \n",
      " 47  Last Timing Belt Service Date  16 non-null     object \n",
      " 48  Available from                 272 non-null    object \n",
      " 49  combined_fuel                  13600 non-null  object \n",
      " 50  city_fuel                      12971 non-null  object \n",
      " 51  country_fuel                   10084 non-null  object \n",
      "dtypes: float64(1), int64(1), object(50)\n",
      "memory usage: 6.3+ MB\n"
     ]
    }
   ],
   "source": [
    "df.info()"
   ]
  },
  {
   "cell_type": "code",
   "execution_count": null,
   "id": "f63565c7",
   "metadata": {},
   "outputs": [],
   "source": []
  },
  {
   "cell_type": "code",
   "execution_count": 206,
   "id": "b1ed93ff",
   "metadata": {},
   "outputs": [
    {
     "ename": "AttributeError",
     "evalue": "'NoneType' object has no attribute 'group'",
     "output_type": "error",
     "traceback": [
      "\u001b[1;31m---------------------------------------------------------------------------\u001b[0m",
      "\u001b[1;31mAttributeError\u001b[0m                            Traceback (most recent call last)",
      "\u001b[1;32m<ipython-input-206-9c5ce3bb6839>\u001b[0m in \u001b[0;36m<module>\u001b[1;34m\u001b[0m\n\u001b[0;32m      1\u001b[0m \u001b[0mtranslator\u001b[0m \u001b[1;33m=\u001b[0m \u001b[0mTranslator\u001b[0m\u001b[1;33m(\u001b[0m\u001b[1;33m)\u001b[0m\u001b[1;33m\u001b[0m\u001b[1;33m\u001b[0m\u001b[0m\n\u001b[1;32m----> 2\u001b[1;33m \u001b[0mdf\u001b[0m\u001b[1;33m[\u001b[0m\u001b[1;34m'English'\u001b[0m\u001b[1;33m]\u001b[0m \u001b[1;33m=\u001b[0m  \u001b[0mdf\u001b[0m\u001b[1;33m[\u001b[0m\u001b[1;34m'description'\u001b[0m\u001b[1;33m]\u001b[0m\u001b[1;33m.\u001b[0m\u001b[0mapply\u001b[0m\u001b[1;33m(\u001b[0m\u001b[1;32mlambda\u001b[0m \u001b[0mx\u001b[0m\u001b[1;33m:\u001b[0m \u001b[0mtranslator\u001b[0m\u001b[1;33m.\u001b[0m\u001b[0mtranslate\u001b[0m\u001b[1;33m(\u001b[0m\u001b[0mx\u001b[0m\u001b[1;33m)\u001b[0m\u001b[1;33m.\u001b[0m\u001b[0mtext\u001b[0m\u001b[1;33m)\u001b[0m\u001b[1;33m\u001b[0m\u001b[1;33m\u001b[0m\u001b[0m\n\u001b[0m",
      "\u001b[1;32m~\\anaconda3\\lib\\site-packages\\pandas\\core\\series.py\u001b[0m in \u001b[0;36mapply\u001b[1;34m(self, func, convert_dtype, args, **kwds)\u001b[0m\n\u001b[0;32m   4136\u001b[0m             \u001b[1;32melse\u001b[0m\u001b[1;33m:\u001b[0m\u001b[1;33m\u001b[0m\u001b[1;33m\u001b[0m\u001b[0m\n\u001b[0;32m   4137\u001b[0m                 \u001b[0mvalues\u001b[0m \u001b[1;33m=\u001b[0m \u001b[0mself\u001b[0m\u001b[1;33m.\u001b[0m\u001b[0mastype\u001b[0m\u001b[1;33m(\u001b[0m\u001b[0mobject\u001b[0m\u001b[1;33m)\u001b[0m\u001b[1;33m.\u001b[0m\u001b[0m_values\u001b[0m\u001b[1;33m\u001b[0m\u001b[1;33m\u001b[0m\u001b[0m\n\u001b[1;32m-> 4138\u001b[1;33m                 \u001b[0mmapped\u001b[0m \u001b[1;33m=\u001b[0m \u001b[0mlib\u001b[0m\u001b[1;33m.\u001b[0m\u001b[0mmap_infer\u001b[0m\u001b[1;33m(\u001b[0m\u001b[0mvalues\u001b[0m\u001b[1;33m,\u001b[0m \u001b[0mf\u001b[0m\u001b[1;33m,\u001b[0m \u001b[0mconvert\u001b[0m\u001b[1;33m=\u001b[0m\u001b[0mconvert_dtype\u001b[0m\u001b[1;33m)\u001b[0m\u001b[1;33m\u001b[0m\u001b[1;33m\u001b[0m\u001b[0m\n\u001b[0m\u001b[0;32m   4139\u001b[0m \u001b[1;33m\u001b[0m\u001b[0m\n\u001b[0;32m   4140\u001b[0m         \u001b[1;32mif\u001b[0m \u001b[0mlen\u001b[0m\u001b[1;33m(\u001b[0m\u001b[0mmapped\u001b[0m\u001b[1;33m)\u001b[0m \u001b[1;32mand\u001b[0m \u001b[0misinstance\u001b[0m\u001b[1;33m(\u001b[0m\u001b[0mmapped\u001b[0m\u001b[1;33m[\u001b[0m\u001b[1;36m0\u001b[0m\u001b[1;33m]\u001b[0m\u001b[1;33m,\u001b[0m \u001b[0mSeries\u001b[0m\u001b[1;33m)\u001b[0m\u001b[1;33m:\u001b[0m\u001b[1;33m\u001b[0m\u001b[1;33m\u001b[0m\u001b[0m\n",
      "\u001b[1;32mpandas\\_libs\\lib.pyx\u001b[0m in \u001b[0;36mpandas._libs.lib.map_infer\u001b[1;34m()\u001b[0m\n",
      "\u001b[1;32m<ipython-input-206-9c5ce3bb6839>\u001b[0m in \u001b[0;36m<lambda>\u001b[1;34m(x)\u001b[0m\n\u001b[0;32m      1\u001b[0m \u001b[0mtranslator\u001b[0m \u001b[1;33m=\u001b[0m \u001b[0mTranslator\u001b[0m\u001b[1;33m(\u001b[0m\u001b[1;33m)\u001b[0m\u001b[1;33m\u001b[0m\u001b[1;33m\u001b[0m\u001b[0m\n\u001b[1;32m----> 2\u001b[1;33m \u001b[0mdf\u001b[0m\u001b[1;33m[\u001b[0m\u001b[1;34m'English'\u001b[0m\u001b[1;33m]\u001b[0m \u001b[1;33m=\u001b[0m  \u001b[0mdf\u001b[0m\u001b[1;33m[\u001b[0m\u001b[1;34m'description'\u001b[0m\u001b[1;33m]\u001b[0m\u001b[1;33m.\u001b[0m\u001b[0mapply\u001b[0m\u001b[1;33m(\u001b[0m\u001b[1;32mlambda\u001b[0m \u001b[0mx\u001b[0m\u001b[1;33m:\u001b[0m \u001b[0mtranslator\u001b[0m\u001b[1;33m.\u001b[0m\u001b[0mtranslate\u001b[0m\u001b[1;33m(\u001b[0m\u001b[0mx\u001b[0m\u001b[1;33m)\u001b[0m\u001b[1;33m.\u001b[0m\u001b[0mtext\u001b[0m\u001b[1;33m)\u001b[0m\u001b[1;33m\u001b[0m\u001b[1;33m\u001b[0m\u001b[0m\n\u001b[0m",
      "\u001b[1;32m~\\anaconda3\\lib\\site-packages\\googletrans\\client.py\u001b[0m in \u001b[0;36mtranslate\u001b[1;34m(self, text, dest, src, **kwargs)\u001b[0m\n\u001b[0;32m    180\u001b[0m             \u001b[0mjumps\u001b[0m \u001b[0mover\u001b[0m  \u001b[1;33m->\u001b[0m  \u001b[0m이상\u001b[0m \u001b[0m점프\u001b[0m\u001b[1;33m\u001b[0m\u001b[1;33m\u001b[0m\u001b[0m\n\u001b[0;32m    181\u001b[0m             \u001b[0mthe\u001b[0m \u001b[0mlazy\u001b[0m \u001b[0mdog\u001b[0m  \u001b[1;33m->\u001b[0m  \u001b[0m게으른\u001b[0m \u001b[0m개\u001b[0m\u001b[1;33m\u001b[0m\u001b[1;33m\u001b[0m\u001b[0m\n\u001b[1;32m--> 182\u001b[1;33m         \"\"\"\n\u001b[0m\u001b[0;32m    183\u001b[0m         \u001b[0mdest\u001b[0m \u001b[1;33m=\u001b[0m \u001b[0mdest\u001b[0m\u001b[1;33m.\u001b[0m\u001b[0mlower\u001b[0m\u001b[1;33m(\u001b[0m\u001b[1;33m)\u001b[0m\u001b[1;33m.\u001b[0m\u001b[0msplit\u001b[0m\u001b[1;33m(\u001b[0m\u001b[1;34m'_'\u001b[0m\u001b[1;33m,\u001b[0m \u001b[1;36m1\u001b[0m\u001b[1;33m)\u001b[0m\u001b[1;33m[\u001b[0m\u001b[1;36m0\u001b[0m\u001b[1;33m]\u001b[0m\u001b[1;33m\u001b[0m\u001b[1;33m\u001b[0m\u001b[0m\n\u001b[0;32m    184\u001b[0m         \u001b[0msrc\u001b[0m \u001b[1;33m=\u001b[0m \u001b[0msrc\u001b[0m\u001b[1;33m.\u001b[0m\u001b[0mlower\u001b[0m\u001b[1;33m(\u001b[0m\u001b[1;33m)\u001b[0m\u001b[1;33m.\u001b[0m\u001b[0msplit\u001b[0m\u001b[1;33m(\u001b[0m\u001b[1;34m'_'\u001b[0m\u001b[1;33m,\u001b[0m \u001b[1;36m1\u001b[0m\u001b[1;33m)\u001b[0m\u001b[1;33m[\u001b[0m\u001b[1;36m0\u001b[0m\u001b[1;33m]\u001b[0m\u001b[1;33m\u001b[0m\u001b[1;33m\u001b[0m\u001b[0m\n",
      "\u001b[1;32m~\\anaconda3\\lib\\site-packages\\googletrans\\client.py\u001b[0m in \u001b[0;36m_translate\u001b[1;34m(self, text, dest, src, override)\u001b[0m\n\u001b[0;32m     76\u001b[0m             self.token_acquirer = TokenAcquirer(\n\u001b[0;32m     77\u001b[0m                 client=self.client, host=self.service_urls[0])\n\u001b[1;32m---> 78\u001b[1;33m \u001b[1;33m\u001b[0m\u001b[0m\n\u001b[0m\u001b[0;32m     79\u001b[0m             \u001b[1;31m#if we have a service url pointing to client api we force the use of it as defaut client\u001b[0m\u001b[1;33m\u001b[0m\u001b[1;33m\u001b[0m\u001b[1;33m\u001b[0m\u001b[0m\n\u001b[0;32m     80\u001b[0m             \u001b[1;32mfor\u001b[0m \u001b[0mt\u001b[0m \u001b[1;32min\u001b[0m \u001b[0menumerate\u001b[0m\u001b[1;33m(\u001b[0m\u001b[0mservice_urls\u001b[0m\u001b[1;33m)\u001b[0m\u001b[1;33m:\u001b[0m\u001b[1;33m\u001b[0m\u001b[1;33m\u001b[0m\u001b[0m\n",
      "\u001b[1;32m~\\anaconda3\\lib\\site-packages\\googletrans\\gtoken.py\u001b[0m in \u001b[0;36mdo\u001b[1;34m(self, text)\u001b[0m\n\u001b[0;32m    192\u001b[0m         \u001b[1;32mif\u001b[0m \u001b[0ma\u001b[0m \u001b[1;33m<\u001b[0m \u001b[1;36m0\u001b[0m\u001b[1;33m:\u001b[0m  \u001b[1;31m# pragma: nocover\u001b[0m\u001b[1;33m\u001b[0m\u001b[1;33m\u001b[0m\u001b[0m\n\u001b[0;32m    193\u001b[0m             \u001b[0ma\u001b[0m \u001b[1;33m=\u001b[0m \u001b[1;33m(\u001b[0m\u001b[0ma\u001b[0m \u001b[1;33m&\u001b[0m \u001b[1;36m2147483647\u001b[0m\u001b[1;33m)\u001b[0m \u001b[1;33m+\u001b[0m \u001b[1;36m2147483648\u001b[0m\u001b[1;33m\u001b[0m\u001b[1;33m\u001b[0m\u001b[0m\n\u001b[1;32m--> 194\u001b[1;33m         \u001b[0ma\u001b[0m \u001b[1;33m%=\u001b[0m \u001b[1;36m1000000\u001b[0m  \u001b[1;31m# int(1E6)\u001b[0m\u001b[1;33m\u001b[0m\u001b[1;33m\u001b[0m\u001b[0m\n\u001b[0m\u001b[0;32m    195\u001b[0m \u001b[1;33m\u001b[0m\u001b[0m\n\u001b[0;32m    196\u001b[0m         \u001b[1;32mreturn\u001b[0m \u001b[1;34m'{}.{}'\u001b[0m\u001b[1;33m.\u001b[0m\u001b[0mformat\u001b[0m\u001b[1;33m(\u001b[0m\u001b[0ma\u001b[0m\u001b[1;33m,\u001b[0m \u001b[0ma\u001b[0m \u001b[1;33m^\u001b[0m \u001b[0mb\u001b[0m\u001b[1;33m)\u001b[0m\u001b[1;33m\u001b[0m\u001b[1;33m\u001b[0m\u001b[0m\n",
      "\u001b[1;32m~\\anaconda3\\lib\\site-packages\\googletrans\\gtoken.py\u001b[0m in \u001b[0;36m_update\u001b[1;34m(self)\u001b[0m\n\u001b[0;32m     60\u001b[0m \u001b[1;33m\u001b[0m\u001b[0m\n\u001b[0;32m     61\u001b[0m         \u001b[1;32mtry\u001b[0m\u001b[1;33m:\u001b[0m\u001b[1;33m\u001b[0m\u001b[1;33m\u001b[0m\u001b[0m\n\u001b[1;32m---> 62\u001b[1;33m             \u001b[1;31m# this will be the same as python code after stripping out a reserved word 'var'\u001b[0m\u001b[1;33m\u001b[0m\u001b[1;33m\u001b[0m\u001b[1;33m\u001b[0m\u001b[0m\n\u001b[0m\u001b[0;32m     63\u001b[0m             \u001b[0mcode\u001b[0m \u001b[1;33m=\u001b[0m \u001b[0mself\u001b[0m\u001b[1;33m.\u001b[0m\u001b[0mRE_TKK\u001b[0m\u001b[1;33m.\u001b[0m\u001b[0msearch\u001b[0m\u001b[1;33m(\u001b[0m\u001b[0mr\u001b[0m\u001b[1;33m.\u001b[0m\u001b[0mtext\u001b[0m\u001b[1;33m)\u001b[0m\u001b[1;33m.\u001b[0m\u001b[0mgroup\u001b[0m\u001b[1;33m(\u001b[0m\u001b[1;36m1\u001b[0m\u001b[1;33m)\u001b[0m\u001b[1;33m.\u001b[0m\u001b[0mreplace\u001b[0m\u001b[1;33m(\u001b[0m\u001b[1;34m'var '\u001b[0m\u001b[1;33m,\u001b[0m \u001b[1;34m''\u001b[0m\u001b[1;33m)\u001b[0m\u001b[1;33m\u001b[0m\u001b[1;33m\u001b[0m\u001b[0m\n\u001b[0;32m     64\u001b[0m             \u001b[1;31m# unescape special ascii characters such like a \\x3d(=)\u001b[0m\u001b[1;33m\u001b[0m\u001b[1;33m\u001b[0m\u001b[1;33m\u001b[0m\u001b[0m\n",
      "\u001b[1;31mAttributeError\u001b[0m: 'NoneType' object has no attribute 'group'"
     ]
    }
   ],
   "source": [
    "translator = Translator()  \n",
    "df['English'] =  df['description'].apply(lambda x: translator.translate(x).text)"
   ]
  },
  {
   "cell_type": "code",
   "execution_count": 208,
   "id": "56d1c630",
   "metadata": {},
   "outputs": [],
   "source": [
    "df[\"Emission Label\"] = df[\"Emission Label\"].astype(\"str\").str.findall(r'[A-Z][a-z]+').apply(list_divider)"
   ]
  },
  {
   "cell_type": "code",
   "execution_count": 209,
   "id": "16eda758",
   "metadata": {},
   "outputs": [
    {
     "data": {
      "text/plain": [
       "array([None, 'Green', 'No', 'Blue', 'Yellow', 'Red'], dtype=object)"
      ]
     },
     "execution_count": 209,
     "metadata": {},
     "output_type": "execute_result"
    }
   ],
   "source": [
    "df[\"Emission Label\"].unique()"
   ]
  },
  {
   "cell_type": "code",
   "execution_count": 215,
   "id": "701ae766",
   "metadata": {},
   "outputs": [
    {
     "data": {
      "text/plain": [
       "array([None, '7', '6', '5', '8', '1', '2', '9', '3', '4'], dtype=object)"
      ]
     },
     "execution_count": 215,
     "metadata": {},
     "output_type": "execute_result"
    }
   ],
   "source": [
    "df.Gears = df.Gears.astype(\"str\").str.findall(r'[0-9]').apply(list_destroyer)\n",
    "df.Gears.unique()"
   ]
  },
  {
   "cell_type": "code",
   "execution_count": 220,
   "id": "718d962f",
   "metadata": {},
   "outputs": [
    {
     "name": "stderr",
     "output_type": "stream",
     "text": [
      "<ipython-input-220-572aed6660a6>:1: FutureWarning: The default value of regex will change from True to False in a future version. In addition, single character regular expressions will*not* be treated as literal strings when regex=True.\n",
      "  df[\"Country version\"] = df[\"Country version\"].astype(\"str\").str.replace(\"[\",\"\").str.replace(\"]\",\"\").str.replace(r\"\\\\n\",\"\")\n",
      "<ipython-input-220-572aed6660a6>:1: FutureWarning: The default value of regex will change from True to False in a future version.\n",
      "  df[\"Country version\"] = df[\"Country version\"].astype(\"str\").str.replace(\"[\",\"\").str.replace(\"]\",\"\").str.replace(r\"\\\\n\",\"\")\n"
     ]
    },
    {
     "data": {
      "text/plain": [
       "array(['nan', \"'Germany'\", \"'Italy'\", \"'Belgium'\", \"'Netherlands'\",\n",
       "       \"'Spain'\", \"'European Union'\", \"'Switzerland'\", \"'Austria'\",\n",
       "       \"'Luxembourg'\", \"'France'\", \"'Denmark'\", \"'Poland'\", \"'Romania'\",\n",
       "       \"'Slovakia'\", \"'Sweden'\", \"'Czech Republic'\", \"'Hungary'\",\n",
       "       \"'Slovenia'\", \"'Croatia'\", \"'Egypt'\", \"'Serbia'\", \"'Bulgaria'\",\n",
       "       \"'Japan'\"], dtype=object)"
      ]
     },
     "execution_count": 220,
     "metadata": {},
     "output_type": "execute_result"
    }
   ],
   "source": [
    "df[\"Country version\"] = df[\"Country version\"].astype(\"str\").str.replace(\"[\",\"\").str.replace(\"]\",\"\").str.replace(r\"\\\\n\",\"\")\n",
    "df[\"Country version\"].unique()"
   ]
  },
  {
   "cell_type": "code",
   "execution_count": null,
   "id": "3280e364",
   "metadata": {},
   "outputs": [],
   "source": [
    "df = df.drop([\"Electricity consumption\",\"Last Service Date\",\"Other Fuel Types\",\"Availability\", \"Last Timing Belt Service Date\", \"Available from\"], axis = 1) "
   ]
  },
  {
   "cell_type": "code",
   "execution_count": 216,
   "id": "eb8a6362",
   "metadata": {},
   "outputs": [
    {
     "data": {
      "text/plain": [
       "0        None\n",
       "1           7\n",
       "2        None\n",
       "3           6\n",
       "4        None\n",
       "         ... \n",
       "15914       6\n",
       "15915       7\n",
       "15916       6\n",
       "15917       6\n",
       "15918    None\n",
       "Name: Gears, Length: 15919, dtype: object"
      ]
     },
     "execution_count": 216,
     "metadata": {},
     "output_type": "execute_result"
    }
   ],
   "source": [
    "df.Gears"
   ]
  },
  {
   "cell_type": "code",
   "execution_count": 221,
   "id": "700a256e",
   "metadata": {},
   "outputs": [
    {
     "data": {
      "text/html": [
       "<div>\n",
       "<style scoped>\n",
       "    .dataframe tbody tr th:only-of-type {\n",
       "        vertical-align: middle;\n",
       "    }\n",
       "\n",
       "    .dataframe tbody tr th {\n",
       "        vertical-align: top;\n",
       "    }\n",
       "\n",
       "    .dataframe thead th {\n",
       "        text-align: right;\n",
       "    }\n",
       "</style>\n",
       "<table border=\"1\" class=\"dataframe\">\n",
       "  <thead>\n",
       "    <tr style=\"text-align: right;\">\n",
       "      <th></th>\n",
       "      <th>url</th>\n",
       "      <th>make_model</th>\n",
       "      <th>short_description</th>\n",
       "      <th>body_type</th>\n",
       "      <th>price</th>\n",
       "      <th>vat</th>\n",
       "      <th>km</th>\n",
       "      <th>registration</th>\n",
       "      <th>prev_owner</th>\n",
       "      <th>hp</th>\n",
       "      <th>...</th>\n",
       "      <th>Country version</th>\n",
       "      <th>Electricity consumption</th>\n",
       "      <th>Last Service Date</th>\n",
       "      <th>Other Fuel Types</th>\n",
       "      <th>Availability</th>\n",
       "      <th>Last Timing Belt Service Date</th>\n",
       "      <th>Available from</th>\n",
       "      <th>combined_fuel</th>\n",
       "      <th>city_fuel</th>\n",
       "      <th>country_fuel</th>\n",
       "    </tr>\n",
       "  </thead>\n",
       "  <tbody>\n",
       "    <tr>\n",
       "      <th>0</th>\n",
       "      <td>https://www.autoscout24.com//offers/audi-a1-sp...</td>\n",
       "      <td>Audi A1</td>\n",
       "      <td>Sportback 1.4 TDI S-tronic Xenon Navi Klima</td>\n",
       "      <td>Sedans</td>\n",
       "      <td>15770</td>\n",
       "      <td>VAT deductible</td>\n",
       "      <td>56,013 km</td>\n",
       "      <td>01/2016</td>\n",
       "      <td>2</td>\n",
       "      <td>66.0</td>\n",
       "      <td>...</td>\n",
       "      <td>nan</td>\n",
       "      <td>NaN</td>\n",
       "      <td>NaN</td>\n",
       "      <td>NaN</td>\n",
       "      <td>NaN</td>\n",
       "      <td>NaN</td>\n",
       "      <td>NaN</td>\n",
       "      <td>3.8</td>\n",
       "      <td>4.3</td>\n",
       "      <td>3.5</td>\n",
       "    </tr>\n",
       "    <tr>\n",
       "      <th>1</th>\n",
       "      <td>https://www.autoscout24.com//offers/audi-a1-1-...</td>\n",
       "      <td>Audi A1</td>\n",
       "      <td>1.8 TFSI sport</td>\n",
       "      <td>Sedans</td>\n",
       "      <td>14500</td>\n",
       "      <td>Price negotiable</td>\n",
       "      <td>80,000 km</td>\n",
       "      <td>03/2017</td>\n",
       "      <td>None</td>\n",
       "      <td>141.0</td>\n",
       "      <td>...</td>\n",
       "      <td>nan</td>\n",
       "      <td>NaN</td>\n",
       "      <td>NaN</td>\n",
       "      <td>NaN</td>\n",
       "      <td>NaN</td>\n",
       "      <td>NaN</td>\n",
       "      <td>NaN</td>\n",
       "      <td>5.6</td>\n",
       "      <td>7.1</td>\n",
       "      <td>4.7</td>\n",
       "    </tr>\n",
       "    <tr>\n",
       "      <th>2</th>\n",
       "      <td>https://www.autoscout24.com//offers/audi-a1-sp...</td>\n",
       "      <td>Audi A1</td>\n",
       "      <td>Sportback 1.6 TDI S tronic Einparkhilfe plus+m...</td>\n",
       "      <td>Sedans</td>\n",
       "      <td>14640</td>\n",
       "      <td>VAT deductible</td>\n",
       "      <td>83,450 km</td>\n",
       "      <td>02/2016</td>\n",
       "      <td>1</td>\n",
       "      <td>85.0</td>\n",
       "      <td>...</td>\n",
       "      <td>nan</td>\n",
       "      <td>NaN</td>\n",
       "      <td>NaN</td>\n",
       "      <td>NaN</td>\n",
       "      <td>NaN</td>\n",
       "      <td>NaN</td>\n",
       "      <td>NaN</td>\n",
       "      <td>3.8</td>\n",
       "      <td>4.4</td>\n",
       "      <td>3.4</td>\n",
       "    </tr>\n",
       "    <tr>\n",
       "      <th>3</th>\n",
       "      <td>https://www.autoscout24.com//offers/audi-a1-1-...</td>\n",
       "      <td>Audi A1</td>\n",
       "      <td>1.4 TDi Design S tronic</td>\n",
       "      <td>Sedans</td>\n",
       "      <td>14500</td>\n",
       "      <td>None</td>\n",
       "      <td>73,000 km</td>\n",
       "      <td>08/2016</td>\n",
       "      <td>1</td>\n",
       "      <td>66.0</td>\n",
       "      <td>...</td>\n",
       "      <td>nan</td>\n",
       "      <td>NaN</td>\n",
       "      <td>NaN</td>\n",
       "      <td>NaN</td>\n",
       "      <td>NaN</td>\n",
       "      <td>NaN</td>\n",
       "      <td>NaN</td>\n",
       "      <td>3.8</td>\n",
       "      <td>4.3</td>\n",
       "      <td>3.5</td>\n",
       "    </tr>\n",
       "    <tr>\n",
       "      <th>4</th>\n",
       "      <td>https://www.autoscout24.com//offers/audi-a1-sp...</td>\n",
       "      <td>Audi A1</td>\n",
       "      <td>Sportback 1.4 TDI S-Tronic S-Line Ext. admired...</td>\n",
       "      <td>Sedans</td>\n",
       "      <td>16790</td>\n",
       "      <td>None</td>\n",
       "      <td>16,200 km</td>\n",
       "      <td>05/2016</td>\n",
       "      <td>1</td>\n",
       "      <td>66.0</td>\n",
       "      <td>...</td>\n",
       "      <td>'Germany'</td>\n",
       "      <td>NaN</td>\n",
       "      <td>NaN</td>\n",
       "      <td>NaN</td>\n",
       "      <td>NaN</td>\n",
       "      <td>NaN</td>\n",
       "      <td>NaN</td>\n",
       "      <td>4.1</td>\n",
       "      <td>4.6</td>\n",
       "      <td>3.8</td>\n",
       "    </tr>\n",
       "  </tbody>\n",
       "</table>\n",
       "<p>5 rows × 52 columns</p>\n",
       "</div>"
      ],
      "text/plain": [
       "                                                 url make_model  \\\n",
       "0  https://www.autoscout24.com//offers/audi-a1-sp...    Audi A1   \n",
       "1  https://www.autoscout24.com//offers/audi-a1-1-...    Audi A1   \n",
       "2  https://www.autoscout24.com//offers/audi-a1-sp...    Audi A1   \n",
       "3  https://www.autoscout24.com//offers/audi-a1-1-...    Audi A1   \n",
       "4  https://www.autoscout24.com//offers/audi-a1-sp...    Audi A1   \n",
       "\n",
       "                                   short_description body_type  price  \\\n",
       "0        Sportback 1.4 TDI S-tronic Xenon Navi Klima    Sedans  15770   \n",
       "1                                     1.8 TFSI sport    Sedans  14500   \n",
       "2  Sportback 1.6 TDI S tronic Einparkhilfe plus+m...    Sedans  14640   \n",
       "3                            1.4 TDi Design S tronic    Sedans  14500   \n",
       "4  Sportback 1.4 TDI S-Tronic S-Line Ext. admired...    Sedans  16790   \n",
       "\n",
       "                vat         km registration prev_owner     hp  ...  \\\n",
       "0    VAT deductible  56,013 km      01/2016        2     66.0  ...   \n",
       "1  Price negotiable  80,000 km      03/2017       None  141.0  ...   \n",
       "2    VAT deductible  83,450 km      02/2016        1     85.0  ...   \n",
       "3              None  73,000 km      08/2016        1     66.0  ...   \n",
       "4              None  16,200 km      05/2016        1     66.0  ...   \n",
       "\n",
       "  Country version Electricity consumption Last Service Date Other Fuel Types  \\\n",
       "0             nan                     NaN               NaN              NaN   \n",
       "1             nan                     NaN               NaN              NaN   \n",
       "2             nan                     NaN               NaN              NaN   \n",
       "3             nan                     NaN               NaN              NaN   \n",
       "4       'Germany'                     NaN               NaN              NaN   \n",
       "\n",
       "  Availability Last Timing Belt Service Date Available from combined_fuel  \\\n",
       "0          NaN                           NaN            NaN           3.8   \n",
       "1          NaN                           NaN            NaN           5.6   \n",
       "2          NaN                           NaN            NaN           3.8   \n",
       "3          NaN                           NaN            NaN           3.8   \n",
       "4          NaN                           NaN            NaN           4.1   \n",
       "\n",
       "  city_fuel country_fuel  \n",
       "0       4.3          3.5  \n",
       "1       7.1          4.7  \n",
       "2       4.4          3.4  \n",
       "3       4.3          3.5  \n",
       "4       4.6          3.8  \n",
       "\n",
       "[5 rows x 52 columns]"
      ]
     },
     "execution_count": 221,
     "metadata": {},
     "output_type": "execute_result"
    }
   ],
   "source": [
    "df.head()"
   ]
  },
  {
   "cell_type": "code",
   "execution_count": null,
   "id": "c61f4952",
   "metadata": {},
   "outputs": [],
   "source": []
  }
 ],
 "metadata": {
  "kernelspec": {
   "display_name": "Python 3",
   "language": "python",
   "name": "python3"
  },
  "language_info": {
   "codemirror_mode": {
    "name": "ipython",
    "version": 3
   },
   "file_extension": ".py",
   "mimetype": "text/x-python",
   "name": "python",
   "nbconvert_exporter": "python",
   "pygments_lexer": "ipython3",
   "version": "3.8.8"
  }
 },
 "nbformat": 4,
 "nbformat_minor": 5
}
