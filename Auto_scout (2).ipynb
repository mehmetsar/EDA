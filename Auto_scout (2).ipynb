{
 "cells": [
  {
   "cell_type": "code",
   "execution_count": 1,
   "id": "95943b6f",
   "metadata": {},
   "outputs": [],
   "source": [
    "import numpy as np\n",
    "import pandas as pd\n",
    "import matplotlib.pyplot as plt\n",
    "import seaborn as sns\n",
    "import regex as re\n",
    "import string as str\n"
   ]
  },
  {
   "cell_type": "code",
   "execution_count": 2,
   "id": "b887ec59",
   "metadata": {},
   "outputs": [],
   "source": [
    "df = pd.read_json(\"scout_car.json\",  lines=True)\n",
    "# we have to read this file line by line"
   ]
  },
  {
   "cell_type": "code",
   "execution_count": 3,
   "id": "1ac36cfb",
   "metadata": {},
   "outputs": [
    {
     "data": {
      "text/html": [
       "<div>\n",
       "<style scoped>\n",
       "    .dataframe tbody tr th:only-of-type {\n",
       "        vertical-align: middle;\n",
       "    }\n",
       "\n",
       "    .dataframe tbody tr th {\n",
       "        vertical-align: top;\n",
       "    }\n",
       "\n",
       "    .dataframe thead th {\n",
       "        text-align: right;\n",
       "    }\n",
       "</style>\n",
       "<table border=\"1\" class=\"dataframe\">\n",
       "  <thead>\n",
       "    <tr style=\"text-align: right;\">\n",
       "      <th></th>\n",
       "      <th>url</th>\n",
       "      <th>make_model</th>\n",
       "      <th>short_description</th>\n",
       "      <th>body_type</th>\n",
       "      <th>price</th>\n",
       "      <th>vat</th>\n",
       "      <th>km</th>\n",
       "      <th>registration</th>\n",
       "      <th>prev_owner</th>\n",
       "      <th>kW</th>\n",
       "      <th>...</th>\n",
       "      <th>description</th>\n",
       "      <th>Emission Label</th>\n",
       "      <th>Gears</th>\n",
       "      <th>Country version</th>\n",
       "      <th>Electricity consumption</th>\n",
       "      <th>Last Service Date</th>\n",
       "      <th>Other Fuel Types</th>\n",
       "      <th>Availability</th>\n",
       "      <th>Last Timing Belt Service Date</th>\n",
       "      <th>Available from</th>\n",
       "    </tr>\n",
       "  </thead>\n",
       "  <tbody>\n",
       "    <tr>\n",
       "      <th>0</th>\n",
       "      <td>https://www.autoscout24.com//offers/audi-a1-sp...</td>\n",
       "      <td>Audi A1</td>\n",
       "      <td>Sportback 1.4 TDI S-tronic Xenon Navi Klima</td>\n",
       "      <td>Sedans</td>\n",
       "      <td>15770</td>\n",
       "      <td>VAT deductible</td>\n",
       "      <td>56,013 km</td>\n",
       "      <td>01/2016</td>\n",
       "      <td>2 previous owners</td>\n",
       "      <td>NaN</td>\n",
       "      <td>...</td>\n",
       "      <td>[\\n, Sicherheit:,  , Deaktivierung für Beifahr...</td>\n",
       "      <td>NaN</td>\n",
       "      <td>NaN</td>\n",
       "      <td>NaN</td>\n",
       "      <td>NaN</td>\n",
       "      <td>NaN</td>\n",
       "      <td>NaN</td>\n",
       "      <td>NaN</td>\n",
       "      <td>NaN</td>\n",
       "      <td>NaN</td>\n",
       "    </tr>\n",
       "    <tr>\n",
       "      <th>1</th>\n",
       "      <td>https://www.autoscout24.com//offers/audi-a1-1-...</td>\n",
       "      <td>Audi A1</td>\n",
       "      <td>1.8 TFSI sport</td>\n",
       "      <td>Sedans</td>\n",
       "      <td>14500</td>\n",
       "      <td>Price negotiable</td>\n",
       "      <td>80,000 km</td>\n",
       "      <td>03/2017</td>\n",
       "      <td>None</td>\n",
       "      <td>NaN</td>\n",
       "      <td>...</td>\n",
       "      <td>[\\nLangstreckenfahrzeug daher die hohe Kilomet...</td>\n",
       "      <td>[\\n4 (Green)\\n]</td>\n",
       "      <td>[\\n7\\n]</td>\n",
       "      <td>NaN</td>\n",
       "      <td>NaN</td>\n",
       "      <td>NaN</td>\n",
       "      <td>NaN</td>\n",
       "      <td>NaN</td>\n",
       "      <td>NaN</td>\n",
       "      <td>NaN</td>\n",
       "    </tr>\n",
       "    <tr>\n",
       "      <th>2</th>\n",
       "      <td>https://www.autoscout24.com//offers/audi-a1-sp...</td>\n",
       "      <td>Audi A1</td>\n",
       "      <td>Sportback 1.6 TDI S tronic Einparkhilfe plus+m...</td>\n",
       "      <td>Sedans</td>\n",
       "      <td>14640</td>\n",
       "      <td>VAT deductible</td>\n",
       "      <td>83,450 km</td>\n",
       "      <td>02/2016</td>\n",
       "      <td>1 previous owner</td>\n",
       "      <td>NaN</td>\n",
       "      <td>...</td>\n",
       "      <td>[\\n, Fahrzeug-Nummer: AM-95365,  , Ehem. UPE 2...</td>\n",
       "      <td>[\\n4 (Green)\\n]</td>\n",
       "      <td>NaN</td>\n",
       "      <td>NaN</td>\n",
       "      <td>NaN</td>\n",
       "      <td>NaN</td>\n",
       "      <td>NaN</td>\n",
       "      <td>NaN</td>\n",
       "      <td>NaN</td>\n",
       "      <td>NaN</td>\n",
       "    </tr>\n",
       "    <tr>\n",
       "      <th>3</th>\n",
       "      <td>https://www.autoscout24.com//offers/audi-a1-1-...</td>\n",
       "      <td>Audi A1</td>\n",
       "      <td>1.4 TDi Design S tronic</td>\n",
       "      <td>Sedans</td>\n",
       "      <td>14500</td>\n",
       "      <td>None</td>\n",
       "      <td>73,000 km</td>\n",
       "      <td>08/2016</td>\n",
       "      <td>1 previous owner</td>\n",
       "      <td>NaN</td>\n",
       "      <td>...</td>\n",
       "      <td>[\\nAudi A1: , - 1e eigenaar , - Perfecte staat...</td>\n",
       "      <td>NaN</td>\n",
       "      <td>[\\n6\\n]</td>\n",
       "      <td>NaN</td>\n",
       "      <td>NaN</td>\n",
       "      <td>NaN</td>\n",
       "      <td>NaN</td>\n",
       "      <td>NaN</td>\n",
       "      <td>NaN</td>\n",
       "      <td>NaN</td>\n",
       "    </tr>\n",
       "    <tr>\n",
       "      <th>4</th>\n",
       "      <td>https://www.autoscout24.com//offers/audi-a1-sp...</td>\n",
       "      <td>Audi A1</td>\n",
       "      <td>Sportback 1.4 TDI S-Tronic S-Line Ext. admired...</td>\n",
       "      <td>Sedans</td>\n",
       "      <td>16790</td>\n",
       "      <td>None</td>\n",
       "      <td>16,200 km</td>\n",
       "      <td>05/2016</td>\n",
       "      <td>1 previous owner</td>\n",
       "      <td>NaN</td>\n",
       "      <td>...</td>\n",
       "      <td>[\\n, Technik &amp; Sicherheit:, Xenon plus, Klimaa...</td>\n",
       "      <td>NaN</td>\n",
       "      <td>NaN</td>\n",
       "      <td>[\\nGermany\\n]</td>\n",
       "      <td>NaN</td>\n",
       "      <td>NaN</td>\n",
       "      <td>NaN</td>\n",
       "      <td>NaN</td>\n",
       "      <td>NaN</td>\n",
       "      <td>NaN</td>\n",
       "    </tr>\n",
       "  </tbody>\n",
       "</table>\n",
       "<p>5 rows × 54 columns</p>\n",
       "</div>"
      ],
      "text/plain": [
       "                                                 url make_model  \\\n",
       "0  https://www.autoscout24.com//offers/audi-a1-sp...    Audi A1   \n",
       "1  https://www.autoscout24.com//offers/audi-a1-1-...    Audi A1   \n",
       "2  https://www.autoscout24.com//offers/audi-a1-sp...    Audi A1   \n",
       "3  https://www.autoscout24.com//offers/audi-a1-1-...    Audi A1   \n",
       "4  https://www.autoscout24.com//offers/audi-a1-sp...    Audi A1   \n",
       "\n",
       "                                   short_description body_type  price  \\\n",
       "0        Sportback 1.4 TDI S-tronic Xenon Navi Klima    Sedans  15770   \n",
       "1                                     1.8 TFSI sport    Sedans  14500   \n",
       "2  Sportback 1.6 TDI S tronic Einparkhilfe plus+m...    Sedans  14640   \n",
       "3                            1.4 TDi Design S tronic    Sedans  14500   \n",
       "4  Sportback 1.4 TDI S-Tronic S-Line Ext. admired...    Sedans  16790   \n",
       "\n",
       "                vat         km registration         prev_owner  kW  ...  \\\n",
       "0    VAT deductible  56,013 km      01/2016  2 previous owners NaN  ...   \n",
       "1  Price negotiable  80,000 km      03/2017               None NaN  ...   \n",
       "2    VAT deductible  83,450 km      02/2016   1 previous owner NaN  ...   \n",
       "3              None  73,000 km      08/2016   1 previous owner NaN  ...   \n",
       "4              None  16,200 km      05/2016   1 previous owner NaN  ...   \n",
       "\n",
       "                                         description   Emission Label  \\\n",
       "0  [\\n, Sicherheit:,  , Deaktivierung für Beifahr...              NaN   \n",
       "1  [\\nLangstreckenfahrzeug daher die hohe Kilomet...  [\\n4 (Green)\\n]   \n",
       "2  [\\n, Fahrzeug-Nummer: AM-95365,  , Ehem. UPE 2...  [\\n4 (Green)\\n]   \n",
       "3  [\\nAudi A1: , - 1e eigenaar , - Perfecte staat...              NaN   \n",
       "4  [\\n, Technik & Sicherheit:, Xenon plus, Klimaa...              NaN   \n",
       "\n",
       "     Gears Country version Electricity consumption Last Service Date  \\\n",
       "0      NaN             NaN                     NaN               NaN   \n",
       "1  [\\n7\\n]             NaN                     NaN               NaN   \n",
       "2      NaN             NaN                     NaN               NaN   \n",
       "3  [\\n6\\n]             NaN                     NaN               NaN   \n",
       "4      NaN   [\\nGermany\\n]                     NaN               NaN   \n",
       "\n",
       "  Other Fuel Types Availability Last Timing Belt Service Date Available from  \n",
       "0              NaN          NaN                           NaN            NaN  \n",
       "1              NaN          NaN                           NaN            NaN  \n",
       "2              NaN          NaN                           NaN            NaN  \n",
       "3              NaN          NaN                           NaN            NaN  \n",
       "4              NaN          NaN                           NaN            NaN  \n",
       "\n",
       "[5 rows x 54 columns]"
      ]
     },
     "execution_count": 3,
     "metadata": {},
     "output_type": "execute_result"
    }
   ],
   "source": [
    "df.head()"
   ]
  },
  {
   "cell_type": "markdown",
   "id": "643a3353",
   "metadata": {},
   "source": [
    "Vat stands for value added tax which is generally 20 percent of cars."
   ]
  },
  {
   "cell_type": "code",
   "execution_count": 4,
   "id": "07838ef4",
   "metadata": {},
   "outputs": [
    {
     "name": "stdout",
     "output_type": "stream",
     "text": [
      "<class 'pandas.core.frame.DataFrame'>\n",
      "RangeIndex: 15919 entries, 0 to 15918\n",
      "Data columns (total 54 columns):\n",
      " #   Column                         Non-Null Count  Dtype  \n",
      "---  ------                         --------------  -----  \n",
      " 0   url                            15919 non-null  object \n",
      " 1   make_model                     15919 non-null  object \n",
      " 2   short_description              15873 non-null  object \n",
      " 3   body_type                      15859 non-null  object \n",
      " 4   price                          15919 non-null  int64  \n",
      " 5   vat                            11406 non-null  object \n",
      " 6   km                             15919 non-null  object \n",
      " 7   registration                   15919 non-null  object \n",
      " 8   prev_owner                     9091 non-null   object \n",
      " 9   kW                             0 non-null      float64\n",
      " 10  hp                             15919 non-null  object \n",
      " 11  Type                           15917 non-null  object \n",
      " 12  Previous Owners                9279 non-null   object \n",
      " 13  Next Inspection                3535 non-null   object \n",
      " 14  Inspection new                 3932 non-null   object \n",
      " 15  Warranty                       10499 non-null  object \n",
      " 16  Full Service                   8215 non-null   object \n",
      " 17  Non-smoking Vehicle            7177 non-null   object \n",
      " 18  null                           15919 non-null  object \n",
      " 19  Make                           15919 non-null  object \n",
      " 20  Model                          15919 non-null  object \n",
      " 21  Offer Number                   12744 non-null  object \n",
      " 22  First Registration             14322 non-null  object \n",
      " 23  Body Color                     15322 non-null  object \n",
      " 24  Paint Type                     10147 non-null  object \n",
      " 25  Body Color Original            12160 non-null  object \n",
      " 26  Upholstery                     12199 non-null  object \n",
      " 27  Body                           15859 non-null  object \n",
      " 28  Nr. of Doors                   15707 non-null  object \n",
      " 29  Nr. of Seats                   14942 non-null  object \n",
      " 30  Model Code                     4978 non-null   object \n",
      " 31  Gearing Type                   15919 non-null  object \n",
      " 32  Displacement                   15423 non-null  object \n",
      " 33  Cylinders                      10239 non-null  object \n",
      " 34  Weight                         8945 non-null   object \n",
      " 35  Drive chain                    9061 non-null   object \n",
      " 36  Fuel                           15919 non-null  object \n",
      " 37  Consumption                    14013 non-null  object \n",
      " 38  CO2 Emission                   14111 non-null  object \n",
      " 39  Emission Class                 12898 non-null  object \n",
      " 40  \n",
      "Comfort & Convenience\n",
      "        14999 non-null  object \n",
      " 41  \n",
      "Entertainment & Media\n",
      "        14545 non-null  object \n",
      " 42  \n",
      "Extras\n",
      "                       12957 non-null  object \n",
      " 43  \n",
      "Safety & Security\n",
      "            14937 non-null  object \n",
      " 44  description                    15919 non-null  object \n",
      " 45  Emission Label                 3985 non-null   object \n",
      " 46  Gears                          11207 non-null  object \n",
      " 47  Country version                7586 non-null   object \n",
      " 48  Electricity consumption        137 non-null    object \n",
      " 49  Last Service Date              566 non-null    object \n",
      " 50  Other Fuel Types               880 non-null    object \n",
      " 51  Availability                   635 non-null    object \n",
      " 52  Last Timing Belt Service Date  16 non-null     object \n",
      " 53  Available from                 272 non-null    object \n",
      "dtypes: float64(1), int64(1), object(52)\n",
      "memory usage: 6.6+ MB\n"
     ]
    }
   ],
   "source": [
    "df.info()"
   ]
  },
  {
   "cell_type": "code",
   "execution_count": 5,
   "id": "8e3575e7",
   "metadata": {},
   "outputs": [],
   "source": [
    "df = df.drop(\"kW\", axis=1)\n",
    "# kW column dropped\n"
   ]
  },
  {
   "cell_type": "code",
   "execution_count": 6,
   "id": "a0f001f4",
   "metadata": {},
   "outputs": [
    {
     "name": "stderr",
     "output_type": "stream",
     "text": [
      "<ipython-input-6-7597322c733e>:1: FutureWarning: The default value of regex will change from True to False in a future version.\n",
      "  df.hp = df.hp.str.replace(r'[A-Za-z -]', \"\")\n"
     ]
    },
    {
     "data": {
      "text/plain": [
       "0         66\n",
       "1        141\n",
       "2         85\n",
       "3         66\n",
       "4         66\n",
       "        ... \n",
       "15914    147\n",
       "15915    165\n",
       "15916    146\n",
       "15917    147\n",
       "15918    165\n",
       "Name: hp, Length: 15919, dtype: object"
      ]
     },
     "execution_count": 6,
     "metadata": {},
     "output_type": "execute_result"
    }
   ],
   "source": [
    "df.hp = df.hp.str.replace(r'[A-Za-z -]', \"\")\n",
    "df.hp"
   ]
  },
  {
   "cell_type": "code",
   "execution_count": 7,
   "id": "97e78784",
   "metadata": {},
   "outputs": [],
   "source": [
    "df.hp = pd.to_numeric(df.hp)"
   ]
  },
  {
   "cell_type": "code",
   "execution_count": 8,
   "id": "3be1d987",
   "metadata": {},
   "outputs": [
    {
     "data": {
      "text/plain": [
       "0                  Used\n",
       "1                  Used\n",
       "2                  Used\n",
       "3                  Used\n",
       "4                  Used\n",
       "              ...      \n",
       "15914               New\n",
       "15915              Used\n",
       "15916    Pre-registered\n",
       "15917    Pre-registered\n",
       "15918     Demonstration\n",
       "Name: Type, Length: 15919, dtype: object"
      ]
     },
     "execution_count": 8,
     "metadata": {},
     "output_type": "execute_result"
    }
   ],
   "source": [
    "# taking only first part of type columns as \"used\" etc.\n",
    "\n",
    "df.Type = df.Type.astype(\"str\").str.findall(r'[A-Za-z-]+').apply(lambda x : x[0])\n",
    "df.Type"
   ]
  },
  {
   "cell_type": "code",
   "execution_count": 9,
   "id": "f531a410",
   "metadata": {},
   "outputs": [
    {
     "data": {
      "text/plain": [
       "0                  Used\n",
       "1                  Used\n",
       "2                  Used\n",
       "3                  Used\n",
       "4                  Used\n",
       "              ...      \n",
       "15914               New\n",
       "15915              Used\n",
       "15916    Pre-registered\n",
       "15917    Pre-registered\n",
       "15918     Demonstration\n",
       "Name: Type, Length: 15919, dtype: object"
      ]
     },
     "execution_count": 9,
     "metadata": {},
     "output_type": "execute_result"
    }
   ],
   "source": [
    "df.Type"
   ]
  },
  {
   "cell_type": "code",
   "execution_count": null,
   "id": "d30fba07",
   "metadata": {},
   "outputs": [],
   "source": []
  },
  {
   "cell_type": "code",
   "execution_count": 10,
   "id": "4f18e9a5",
   "metadata": {},
   "outputs": [
    {
     "data": {
      "text/plain": [
       "0         2  \n",
       "1        None\n",
       "2         1  \n",
       "3         1  \n",
       "4         1  \n",
       "         ... \n",
       "15914    None\n",
       "15915     1  \n",
       "15916     1  \n",
       "15917    None\n",
       "15918     1  \n",
       "Name: prev_owner, Length: 15919, dtype: object"
      ]
     },
     "execution_count": 10,
     "metadata": {},
     "output_type": "execute_result"
    }
   ],
   "source": [
    "df.prev_owner = df.prev_owner.str.replace('[A-Za-z]','',regex=True)\n",
    "df.prev_owner"
   ]
  },
  {
   "cell_type": "code",
   "execution_count": 11,
   "id": "e6581dba",
   "metadata": {},
   "outputs": [],
   "source": [
    "def list_destroyer(x):\n",
    "    if len(x)>0 :\n",
    "        return x[0]"
   ]
  },
  {
   "cell_type": "code",
   "execution_count": 12,
   "id": "d11ec052",
   "metadata": {},
   "outputs": [
    {
     "data": {
      "text/plain": [
       "0        2016\n",
       "1        2017\n",
       "2        2016\n",
       "3        2016\n",
       "4        2016\n",
       "         ... \n",
       "15914    None\n",
       "15915    2019\n",
       "15916    2019\n",
       "15917    2019\n",
       "15918    2019\n",
       "Name: First Registration, Length: 15919, dtype: object"
      ]
     },
     "execution_count": 12,
     "metadata": {},
     "output_type": "execute_result"
    }
   ],
   "source": [
    "# Since some of null values refers to \"0\", we will use registeration dates to find non-used cars \n",
    "#and will refill some of null values.\n",
    "df[\"First Registration\"] = df[\"First Registration\"].astype(\"str\").str.findall(r'[0-9]+').apply(list_destroyer)\n",
    "df[\"First Registration\"]\n"
   ]
  },
  {
   "cell_type": "code",
   "execution_count": 13,
   "id": "f2bd334c",
   "metadata": {},
   "outputs": [
    {
     "name": "stderr",
     "output_type": "stream",
     "text": [
      "<ipython-input-13-70c81092061c>:5: SettingWithCopyWarning: \n",
      "A value is trying to be set on a copy of a slice from a DataFrame\n",
      "\n",
      "See the caveats in the documentation: https://pandas.pydata.org/pandas-docs/stable/user_guide/indexing.html#returning-a-view-versus-a-copy\n",
      "  df.prev_owner[count]=0\n"
     ]
    }
   ],
   "source": [
    "count = 0\n",
    "while count < len(df.prev_owner):\n",
    "    for i in df[\"First Registration\"]:\n",
    "        if i == \"2019\":\n",
    "            df.prev_owner[count]=0\n",
    "        count +=1        \n",
    "        "
   ]
  },
  {
   "cell_type": "code",
   "execution_count": 14,
   "id": "73f53507",
   "metadata": {},
   "outputs": [
    {
     "data": {
      "text/plain": [
       "0        2.0\n",
       "1        NaN\n",
       "2        1.0\n",
       "3        1.0\n",
       "4        1.0\n",
       "        ... \n",
       "15914    NaN\n",
       "15915    0.0\n",
       "15916    0.0\n",
       "15917    0.0\n",
       "15918    0.0\n",
       "Name: prev_owner, Length: 15919, dtype: float64"
      ]
     },
     "execution_count": 14,
     "metadata": {},
     "output_type": "execute_result"
    }
   ],
   "source": [
    "pd.to_numeric(df.prev_owner)"
   ]
  },
  {
   "cell_type": "code",
   "execution_count": 15,
   "id": "347174ac",
   "metadata": {},
   "outputs": [],
   "source": [
    "df[\"Next Inspection\"] = df[\"Next Inspection\"].astype(\"str\").str.findall(r'\\d\\d.\\d\\d\\d\\d').apply(list_destroyer)"
   ]
  },
  {
   "cell_type": "code",
   "execution_count": 16,
   "id": "b67aab21",
   "metadata": {},
   "outputs": [
    {
     "data": {
      "text/plain": [
       "0       2021-06-01\n",
       "1              NaT\n",
       "2              NaT\n",
       "3              NaT\n",
       "4              NaT\n",
       "           ...    \n",
       "15914          NaT\n",
       "15915   2022-01-01\n",
       "15916          NaT\n",
       "15917          NaT\n",
       "15918          NaT\n",
       "Name: Next Inspection, Length: 15919, dtype: datetime64[ns]"
      ]
     },
     "execution_count": 16,
     "metadata": {},
     "output_type": "execute_result"
    }
   ],
   "source": [
    "pd.to_datetime(df[\"Next Inspection\"])"
   ]
  },
  {
   "cell_type": "code",
   "execution_count": 17,
   "id": "9992e052",
   "metadata": {},
   "outputs": [
    {
     "data": {
      "text/plain": [
       "0         Yes\n",
       "1        None\n",
       "2        None\n",
       "3        None\n",
       "4         Yes\n",
       "         ... \n",
       "15914    None\n",
       "15915    None\n",
       "15916     Yes\n",
       "15917    None\n",
       "15918     Yes\n",
       "Name: Inspection new, Length: 15919, dtype: object"
      ]
     },
     "execution_count": 17,
     "metadata": {},
     "output_type": "execute_result"
    }
   ],
   "source": [
    "df[\"Inspection new\"] = df[\"Inspection new\"].astype(\"str\").str.findall(r'[A-Z][a-z]+').apply(list_destroyer)\n",
    "df[\"Inspection new\"]"
   ]
  },
  {
   "cell_type": "code",
   "execution_count": 18,
   "id": "7d67c1c6",
   "metadata": {},
   "outputs": [],
   "source": [
    "df = df.drop([\"Warranty\",\"Full Service\", \"Non-smoking Vehicle\"], axis = 1)"
   ]
  },
  {
   "cell_type": "code",
   "execution_count": 19,
   "id": "94f1bf9c",
   "metadata": {},
   "outputs": [],
   "source": [
    "df = df.drop(\"null\", axis = 1) "
   ]
  },
  {
   "cell_type": "code",
   "execution_count": 20,
   "id": "c4ffa3d6",
   "metadata": {},
   "outputs": [
    {
     "data": {
      "text/plain": [
       "0           Audi\n",
       "1           Audi\n",
       "2           Audi\n",
       "3           Audi\n",
       "4           Audi\n",
       "          ...   \n",
       "15914    Renault\n",
       "15915    Renault\n",
       "15916    Renault\n",
       "15917    Renault\n",
       "15918    Renault\n",
       "Name: Brand, Length: 15919, dtype: object"
      ]
     },
     "execution_count": 20,
     "metadata": {},
     "output_type": "execute_result"
    }
   ],
   "source": [
    "df = df.rename(columns= {\"Make\":\"Brand\"} )\n",
    "df.Brand = df.Brand.astype(\"str\").str.findall(r'[A-Z][a-z]+').apply(list_destroyer)\n",
    "df.Brand"
   ]
  },
  {
   "cell_type": "code",
   "execution_count": 21,
   "id": "cd8efa33",
   "metadata": {},
   "outputs": [],
   "source": [
    "df.Model = df.Model.astype(\"str\").str.findall(r'[A-Z][a-z0-9]+').apply(list_destroyer)"
   ]
  },
  {
   "cell_type": "code",
   "execution_count": 22,
   "id": "34b42daf",
   "metadata": {},
   "outputs": [
    {
     "data": {
      "text/plain": [
       "0             LR-062483\n",
       "1                   nan\n",
       "2              AM-95365\n",
       "3                   nan\n",
       "4                 C1626\n",
       "              ...      \n",
       "15914          10988301\n",
       "15915       507370_3223\n",
       "15916          Espace16\n",
       "15917           2691331\n",
       "15918    Re_30000008029\n",
       "Name: Offer Number, Length: 15919, dtype: object"
      ]
     },
     "execution_count": 22,
     "metadata": {},
     "output_type": "execute_result"
    }
   ],
   "source": [
    "df[\"Offer Number\"] = df[\"Offer Number\"].astype(\"str\").apply(lambda x : x.replace(\"['\\\\n\",\"\").replace(\"\\\\n']\", \"\"))\n",
    "df[\"Offer Number\"]"
   ]
  },
  {
   "cell_type": "code",
   "execution_count": 23,
   "id": "4bb1c7a6",
   "metadata": {},
   "outputs": [
    {
     "data": {
      "text/plain": [
       "0        Black\n",
       "1          Red\n",
       "2        Black\n",
       "3        Brown\n",
       "4        Black\n",
       "         ...  \n",
       "15914     Grey\n",
       "15915     Grey\n",
       "15916    White\n",
       "15917     Grey\n",
       "15918     Grey\n",
       "Name: Body Color, Length: 15919, dtype: object"
      ]
     },
     "execution_count": 23,
     "metadata": {},
     "output_type": "execute_result"
    }
   ],
   "source": [
    "df[\"Body Color\"] = df[\"Body Color\"].astype(\"str\").str.findall(r'[A-Z][a-z0-9]+').apply(list_destroyer)\n",
    "df[\"Body Color\"] "
   ]
  },
  {
   "cell_type": "code",
   "execution_count": 24,
   "id": "f516d0e9",
   "metadata": {},
   "outputs": [
    {
     "data": {
      "text/plain": [
       "0        Metallic\n",
       "1            None\n",
       "2        Metallic\n",
       "3        Metallic\n",
       "4        Metallic\n",
       "           ...   \n",
       "15914    Metallic\n",
       "15915    Metallic\n",
       "15916        None\n",
       "15917        None\n",
       "15918    Metallic\n",
       "Name: Paint Type, Length: 15919, dtype: object"
      ]
     },
     "execution_count": 24,
     "metadata": {},
     "output_type": "execute_result"
    }
   ],
   "source": [
    "df[\"Paint Type\"] = df[\"Paint Type\"].astype(\"str\").str.findall(r'[A-Z][a-z0-9/]+').apply(list_destroyer)\n",
    "df[\"Paint Type\"]"
   ]
  },
  {
   "cell_type": "code",
   "execution_count": 25,
   "id": "cabbf91b",
   "metadata": {},
   "outputs": [
    {
     "data": {
      "text/plain": [
       "0                 Mythosschwarz\n",
       "1                           nan\n",
       "2        mythosschwarz metallic\n",
       "3                           nan\n",
       "4        Mythosschwarz Metallic\n",
       "                  ...          \n",
       "15914              Grigio scuro\n",
       "15915       Stahl-Grau Metallic\n",
       "15916               arktis-weiß\n",
       "15917                    Grigio\n",
       "15918    Titanium-Grau Metallic\n",
       "Name: Body Color Original, Length: 15919, dtype: object"
      ]
     },
     "execution_count": 25,
     "metadata": {},
     "output_type": "execute_result"
    }
   ],
   "source": [
    "df[\"Body Color Original\"] = df[\"Body Color Original\"].astype(\"str\").apply(lambda x : x.replace(\"['\\\\n\",\"\").replace(\"\\\\n']\", \"\"))\n",
    "df[\"Body Color Original\"]\n"
   ]
  },
  {
   "cell_type": "code",
   "execution_count": 26,
   "id": "c6be18a4",
   "metadata": {},
   "outputs": [],
   "source": [
    "def list_divider(x):\n",
    "    if len(x)>0:\n",
    "        if len(x)==1:\n",
    "            return x[0]\n",
    "        elif len(x)==3:\n",
    "            return x[0]+\" \"+x[1]+\" \"+x[2]\n",
    "        else:\n",
    "            return x[0]+\",\"+x[1]"
   ]
  },
  {
   "cell_type": "code",
   "execution_count": 27,
   "id": "a68e6724",
   "metadata": {},
   "outputs": [
    {
     "data": {
      "text/plain": [
       "0        Cloth,Black\n",
       "1         Cloth,Grey\n",
       "2        Cloth,Black\n",
       "3               None\n",
       "4        Cloth,Black\n",
       "            ...     \n",
       "15914           None\n",
       "15915          Cloth\n",
       "15916     Full,Black\n",
       "15917           Part\n",
       "15918     Full,Brown\n",
       "Name: Upholstery, Length: 15919, dtype: object"
      ]
     },
     "execution_count": 27,
     "metadata": {},
     "output_type": "execute_result"
    }
   ],
   "source": [
    "df[\"Upholstery\"].astype(\"str\").str.findall(r'[A-Z][a-z]+').apply(list_divider)\n"
   ]
  },
  {
   "cell_type": "code",
   "execution_count": 28,
   "id": "2d1119ac",
   "metadata": {},
   "outputs": [
    {
     "data": {
      "text/plain": [
       "0        Sedans\n",
       "1        Sedans\n",
       "2        Sedans\n",
       "3        Sedans\n",
       "4        Sedans\n",
       "          ...  \n",
       "15914       Van\n",
       "15915       Van\n",
       "15916       Van\n",
       "15917       Van\n",
       "15918       Van\n",
       "Name: Body, Length: 15919, dtype: object"
      ]
     },
     "execution_count": 28,
     "metadata": {},
     "output_type": "execute_result"
    }
   ],
   "source": [
    "df.Body = df[\"Body\"].astype(\"str\").str.findall(r'[A-Z][a-z ]+').apply(list_destroyer)\n",
    "df.Body"
   ]
  },
  {
   "cell_type": "code",
   "execution_count": 29,
   "id": "f5fa4fc1",
   "metadata": {},
   "outputs": [
    {
     "data": {
      "text/plain": [
       "0        5\n",
       "1        3\n",
       "2        4\n",
       "3        3\n",
       "4        5\n",
       "        ..\n",
       "15914    5\n",
       "15915    5\n",
       "15916    5\n",
       "15917    5\n",
       "15918    5\n",
       "Name: Nr. of Doors, Length: 15919, dtype: object"
      ]
     },
     "execution_count": 29,
     "metadata": {},
     "output_type": "execute_result"
    }
   ],
   "source": [
    "df[\"Nr. of Doors\"] = df[\"Nr. of Doors\"].astype(\"str\").str.findall(r'\\d').apply(list_destroyer)\n",
    "df[\"Nr. of Doors\"]"
   ]
  },
  {
   "cell_type": "code",
   "execution_count": 30,
   "id": "92837dac",
   "metadata": {},
   "outputs": [
    {
     "data": {
      "text/plain": [
       "0        5\n",
       "1        3\n",
       "2        4\n",
       "3        3\n",
       "4        5\n",
       "        ..\n",
       "15914    5\n",
       "15915    5\n",
       "15916    5\n",
       "15917    5\n",
       "15918    5\n",
       "Name: Nr. of Seats, Length: 15919, dtype: object"
      ]
     },
     "execution_count": 30,
     "metadata": {},
     "output_type": "execute_result"
    }
   ],
   "source": [
    "df[\"Nr. of Seats\"] = df[\"Nr. of Doors\"].astype(\"str\").str.findall(r'\\d').apply(list_destroyer)\n",
    "df[\"Nr. of Seats\"]"
   ]
  },
  {
   "cell_type": "code",
   "execution_count": 31,
   "id": "a27d3de4",
   "metadata": {},
   "outputs": [
    {
     "data": {
      "text/plain": [
       "0        0588/BDF\n",
       "1        0588/BCY\n",
       "2            None\n",
       "3            None\n",
       "4        0588/BDF\n",
       "           ...   \n",
       "15914        None\n",
       "15915        None\n",
       "15916        None\n",
       "15917        None\n",
       "15918    3333/BHJ\n",
       "Name: Model Code, Length: 15919, dtype: object"
      ]
     },
     "execution_count": 31,
     "metadata": {},
     "output_type": "execute_result"
    }
   ],
   "source": [
    "df[\"Model Code\"] = df[\"Model Code\"].astype(\"str\").str.findall(r'[0-9/]+[A-Z]+').apply(list_destroyer)\n",
    "df[\"Model Code\"]"
   ]
  },
  {
   "cell_type": "code",
   "execution_count": 32,
   "id": "dbd63e90",
   "metadata": {},
   "outputs": [
    {
     "data": {
      "text/plain": [
       "array(['Automatic', 'Manual', 'Semi'], dtype=object)"
      ]
     },
     "execution_count": 32,
     "metadata": {},
     "output_type": "execute_result"
    }
   ],
   "source": [
    "df[\"Gearing Type\"] = df[\"Gearing Type\"].astype(\"str\").str.findall(r'[A-Z][a-z]+').apply(list_destroyer)\n",
    "df[\"Gearing Type\"].unique()"
   ]
  },
  {
   "cell_type": "code",
   "execution_count": 33,
   "id": "c50a4cd0",
   "metadata": {},
   "outputs": [
    {
     "data": {
      "text/plain": [
       "0        1422\n",
       "1        1798\n",
       "2        1598\n",
       "3        1422\n",
       "4        1422\n",
       "         ... \n",
       "15914    1997\n",
       "15915    1798\n",
       "15916    1997\n",
       "15917    1997\n",
       "15918    1798\n",
       "Name: Displacement, Length: 15919, dtype: object"
      ]
     },
     "execution_count": 33,
     "metadata": {},
     "output_type": "execute_result"
    }
   ],
   "source": [
    "df[\"Displacement\"] = df[\"Displacement\"].astype(\"str\").str.findall(r'[0-9]+').apply(list_divider).str.replace(\",\",\"\")\n",
    "df[\"Displacement\"]"
   ]
  },
  {
   "cell_type": "code",
   "execution_count": 34,
   "id": "80015834",
   "metadata": {},
   "outputs": [
    {
     "data": {
      "text/plain": [
       "0           3\n",
       "1           4\n",
       "2        None\n",
       "3           3\n",
       "4           3\n",
       "         ... \n",
       "15914       4\n",
       "15915       4\n",
       "15916       4\n",
       "15917       4\n",
       "15918       4\n",
       "Name: Cylinders, Length: 15919, dtype: object"
      ]
     },
     "execution_count": 34,
     "metadata": {},
     "output_type": "execute_result"
    }
   ],
   "source": [
    "df[\"Cylinders\"] = df[\"Cylinders\"].astype(\"str\").str.findall(r'\\d').apply(list_destroyer)\n",
    "df[\"Cylinders\"]"
   ]
  },
  {
   "cell_type": "code",
   "execution_count": 35,
   "id": "727a1e2f",
   "metadata": {},
   "outputs": [
    {
     "data": {
      "text/plain": [
       "0        1220\n",
       "1        1255\n",
       "2        None\n",
       "3        1195\n",
       "4        None\n",
       "         ... \n",
       "15914    1758\n",
       "15915    1708\n",
       "15916    None\n",
       "15917    1758\n",
       "15918    1685\n",
       "Name: Weight, Length: 15919, dtype: object"
      ]
     },
     "execution_count": 35,
     "metadata": {},
     "output_type": "execute_result"
    }
   ],
   "source": [
    "df[\"Weight\"] = df[\"Weight\"].astype(\"str\").str.findall(r'[0-9]+').apply(list_divider).str.replace(\",\",\"\")\n",
    "df[\"Weight\"]"
   ]
  },
  {
   "cell_type": "code",
   "execution_count": 36,
   "id": "8d49d280",
   "metadata": {},
   "outputs": [
    {
     "name": "stderr",
     "output_type": "stream",
     "text": [
      "<ipython-input-36-e2be8b564026>:7: SettingWithCopyWarning: \n",
      "A value is trying to be set on a copy of a slice from a DataFrame\n",
      "\n",
      "See the caveats in the documentation: https://pandas.pydata.org/pandas-docs/stable/user_guide/indexing.html#returning-a-view-versus-a-copy\n",
      "  df[\"Drive chain\"][count]=\"front\"\n",
      "<ipython-input-36-e2be8b564026>:13: SettingWithCopyWarning: \n",
      "A value is trying to be set on a copy of a slice from a DataFrame\n",
      "\n",
      "See the caveats in the documentation: https://pandas.pydata.org/pandas-docs/stable/user_guide/indexing.html#returning-a-view-versus-a-copy\n",
      "  df[\"Drive chain\"][count]=\"Null\"\n",
      "<ipython-input-36-e2be8b564026>:10: SettingWithCopyWarning: \n",
      "A value is trying to be set on a copy of a slice from a DataFrame\n",
      "\n",
      "See the caveats in the documentation: https://pandas.pydata.org/pandas-docs/stable/user_guide/indexing.html#returning-a-view-versus-a-copy\n",
      "  df[\"Drive chain\"][count]=\"front\"\n"
     ]
    }
   ],
   "source": [
    "h = df[\"Drive chain\"].astype(\"str\").str.findall(r'[a-z]+').apply(list_destroyer)\n",
    "\n",
    "count = 0\n",
    "while count < len(h):\n",
    "  for i in h:\n",
    "    if i == 'nfront':\n",
    "        df[\"Drive chain\"][count]=\"front\"\n",
    "        count +=1\n",
    "    elif i == 'nrear':\n",
    "        df[\"Drive chain\"][count]=\"front\"\n",
    "        count +=1\n",
    "    else:\n",
    "        df[\"Drive chain\"][count]=\"Null\"\n",
    "        count +=1"
   ]
  },
  {
   "cell_type": "code",
   "execution_count": 37,
   "id": "d593ffed",
   "metadata": {},
   "outputs": [
    {
     "data": {
      "text/plain": [
       "0        front\n",
       "1        front\n",
       "2        front\n",
       "3         Null\n",
       "4        front\n",
       "         ...  \n",
       "15914    front\n",
       "15915    front\n",
       "15916    front\n",
       "15917    front\n",
       "15918     Null\n",
       "Name: Drive chain, Length: 15919, dtype: object"
      ]
     },
     "execution_count": 37,
     "metadata": {},
     "output_type": "execute_result"
    }
   ],
   "source": [
    "df[\"Drive chain\"]"
   ]
  },
  {
   "cell_type": "code",
   "execution_count": 38,
   "id": "5aae8887",
   "metadata": {
    "scrolled": true
   },
   "outputs": [
    {
     "data": {
      "text/plain": [
       "0        Diesel Particulate Filter\n",
       "1                         Gasoline\n",
       "2        Diesel Particulate Filter\n",
       "3        Diesel Particulate Filter\n",
       "4        Diesel Particulate Filter\n",
       "                   ...            \n",
       "15914    Diesel Particulate Filter\n",
       "15915                  Super,Super\n",
       "15916                       Diesel\n",
       "15917                       Diesel\n",
       "15918                        Super\n",
       "Name: Fuel, Length: 15919, dtype: object"
      ]
     },
     "execution_count": 38,
     "metadata": {},
     "output_type": "execute_result"
    }
   ],
   "source": [
    "df.Fuel = df.Fuel.astype(\"str\").str.findall(r'[A-Z][a-z(]+').apply(list_divider)\n",
    "df.Fuel"
   ]
  },
  {
   "cell_type": "code",
   "execution_count": 55,
   "id": "07f066c4",
   "metadata": {},
   "outputs": [],
   "source": [
    "total_fuel = df.Consumption.astype(\"str\").str.findall(r\"[0-9]+?\\.[0-9]+\")"
   ]
  },
  {
   "cell_type": "code",
   "execution_count": 40,
   "id": "bce4e7cd",
   "metadata": {},
   "outputs": [],
   "source": [
    "def second_element(x):\n",
    "    if len(x)>1:\n",
    "        return x[1]"
   ]
  },
  {
   "cell_type": "code",
   "execution_count": 53,
   "id": "3670a292",
   "metadata": {},
   "outputs": [],
   "source": [
    "def third_element(x):\n",
    "    if len(x)>2:\n",
    "        return x[2]"
   ]
  },
  {
   "cell_type": "code",
   "execution_count": 56,
   "id": "dc418758",
   "metadata": {},
   "outputs": [
    {
     "data": {
      "text/plain": [
       "0        3.8\n",
       "1        5.6\n",
       "2        3.8\n",
       "3        3.8\n",
       "4        4.1\n",
       "        ... \n",
       "15914    5.3\n",
       "15915    7.4\n",
       "15916    5.3\n",
       "15917    5.3\n",
       "15918    6.8\n",
       "Name: combined_fuel, Length: 15919, dtype: object"
      ]
     },
     "execution_count": 56,
     "metadata": {},
     "output_type": "execute_result"
    }
   ],
   "source": [
    "df[\"combined_fuel\"] = total_fuel.apply(list_destroyer)\n",
    "df[\"combined_fuel\"]"
   ]
  },
  {
   "cell_type": "code",
   "execution_count": 57,
   "id": "175670e7",
   "metadata": {},
   "outputs": [
    {
     "data": {
      "text/plain": [
       "0        4.3\n",
       "1        7.1\n",
       "2        4.4\n",
       "3        4.3\n",
       "4        4.6\n",
       "        ... \n",
       "15914    6.2\n",
       "15915    9.2\n",
       "15916    6.2\n",
       "15917    6.2\n",
       "15918    8.7\n",
       "Name: city_fuel, Length: 15919, dtype: object"
      ]
     },
     "execution_count": 57,
     "metadata": {},
     "output_type": "execute_result"
    }
   ],
   "source": [
    "df[\"city_fuel\"] = total_fuel.apply(second_element)\n",
    "df[\"city_fuel\"]"
   ]
  },
  {
   "cell_type": "code",
   "execution_count": 58,
   "id": "1ee5e8fc",
   "metadata": {},
   "outputs": [
    {
     "data": {
      "text/plain": [
       "0        3.5\n",
       "1        4.7\n",
       "2        3.4\n",
       "3        3.5\n",
       "4        3.8\n",
       "        ... \n",
       "15914    4.7\n",
       "15915    6.3\n",
       "15916    4.7\n",
       "15917    4.7\n",
       "15918    5.7\n",
       "Name: country_fuel, Length: 15919, dtype: object"
      ]
     },
     "execution_count": 58,
     "metadata": {},
     "output_type": "execute_result"
    }
   ],
   "source": [
    "df[\"country_fuel\"] = df.Consumption.astype(\"str\").str.findall(r\"[0-9]+?\\.[0-9]+\").apply(third_element)\n",
    "df[\"country_fuel\"]"
   ]
  },
  {
   "cell_type": "code",
   "execution_count": 63,
   "id": "072faeb6",
   "metadata": {},
   "outputs": [
    {
     "data": {
      "text/plain": [
       "0         99\n",
       "1        129\n",
       "2         99\n",
       "3         99\n",
       "4        109\n",
       "        ... \n",
       "15914    139\n",
       "15915    168\n",
       "15916    139\n",
       "15917    139\n",
       "15918    153\n",
       "Name: CO2 Emission, Length: 15919, dtype: object"
      ]
     },
     "execution_count": 63,
     "metadata": {},
     "output_type": "execute_result"
    }
   ],
   "source": [
    "df[\"CO2 Emission\"] = df[\"CO2 Emission\"].astype(\"str\").str.findall(r\"\\d\\d\\d?\").apply(list_destroyer)\n",
    "df[\"CO2 Emission\"]"
   ]
  },
  {
   "cell_type": "code",
   "execution_count": 67,
   "id": "9869a205",
   "metadata": {},
   "outputs": [
    {
     "data": {
      "text/plain": [
       "array(['Euro 6', 'None', 'Euro 5', 'Euro 6d', 'Euro 6c', 'Euro 4'],\n",
       "      dtype=object)"
      ]
     },
     "execution_count": 67,
     "metadata": {},
     "output_type": "execute_result"
    }
   ],
   "source": [
    "df[\"Emission Class\"] = df[\"Emission Class\"].astype(\"str\").str.findall(r\"[A-Z][a-z 0-9]+\").apply(list_destroyer)\n",
    "df[\"Emission Class\"].unique()"
   ]
  },
  {
   "cell_type": "code",
   "execution_count": 69,
   "id": "65ab71d5",
   "metadata": {},
   "outputs": [],
   "source": [
    "df = df.rename(columns={\"\\nComfort & Convenience\\n\": \"Comfort\"})"
   ]
  },
  {
   "cell_type": "code",
   "execution_count": null,
   "id": "c9db5c19",
   "metadata": {},
   "outputs": [],
   "source": [
    "def king_of_lists(x):\n",
    "    count = 0\n",
    "    while count<len(x):\n",
    "        return x[count]"
   ]
  },
  {
   "cell_type": "code",
   "execution_count": 71,
   "id": "a657ce31",
   "metadata": {},
   "outputs": [
    {
     "data": {
      "text/plain": [
       "0        [Air, Armrest, Automatic, Cruise, Electrical, ...\n",
       "1        [Air, Automatic, Hill, Holder, Leather, Lumbar...\n",
       "2        [Air, Cruise, Electrical, Hill, Holder, Leathe...\n",
       "3        [Air, Armrest, Auxiliary, Electrical, Heads, H...\n",
       "4        [Air, Armrest, Automatic, Electrical, Hill, Ho...\n",
       "                               ...                        \n",
       "15914    [Air, Automatic, Cruise, Electrically, Electri...\n",
       "15915    [Air, Automatic, Cruise, Electrically, Electri...\n",
       "15916    [Air, Armrest, Automatic, Cruise, Electrically...\n",
       "15917    [Air, Automatic, Cruise, Electrically, Electri...\n",
       "15918    [Air, Automatic, Cruise, Electrically, Electri...\n",
       "Name: Comfort, Length: 15919, dtype: object"
      ]
     },
     "execution_count": 71,
     "metadata": {},
     "output_type": "execute_result"
    }
   ],
   "source": [
    "df.Comfort.astype(\"str\").str.findall(r'[A-Z][a-z]+')"
   ]
  },
  {
   "cell_type": "code",
   "execution_count": null,
   "id": "cbf70d21",
   "metadata": {},
   "outputs": [],
   "source": []
  },
  {
   "cell_type": "code",
   "execution_count": null,
   "id": "4e3d8a97",
   "metadata": {},
   "outputs": [],
   "source": []
  },
  {
   "cell_type": "code",
   "execution_count": 47,
   "id": "33e2a621",
   "metadata": {},
   "outputs": [
    {
     "name": "stdout",
     "output_type": "stream",
     "text": [
      "<class 'pandas.core.frame.DataFrame'>\n",
      "RangeIndex: 15919 entries, 0 to 15918\n",
      "Data columns (total 52 columns):\n",
      " #   Column                         Non-Null Count  Dtype  \n",
      "---  ------                         --------------  -----  \n",
      " 0   url                            15919 non-null  object \n",
      " 1   make_model                     15919 non-null  object \n",
      " 2   short_description              15873 non-null  object \n",
      " 3   body_type                      15859 non-null  object \n",
      " 4   price                          15919 non-null  int64  \n",
      " 5   vat                            11406 non-null  object \n",
      " 6   km                             15919 non-null  object \n",
      " 7   registration                   15919 non-null  object \n",
      " 8   prev_owner                     10365 non-null  object \n",
      " 9   hp                             15831 non-null  float64\n",
      " 10  Type                           15919 non-null  object \n",
      " 11  Previous Owners                9279 non-null   object \n",
      " 12  Next Inspection                3535 non-null   object \n",
      " 13  Inspection new                 3932 non-null   object \n",
      " 14  Brand                          15919 non-null  object \n",
      " 15  Model                          15919 non-null  object \n",
      " 16  Offer Number                   15919 non-null  object \n",
      " 17  First Registration             14322 non-null  object \n",
      " 18  Body Color                     15322 non-null  object \n",
      " 19  Paint Type                     10147 non-null  object \n",
      " 20  Body Color Original            15919 non-null  object \n",
      " 21  Upholstery                     12199 non-null  object \n",
      " 22  Body                           15859 non-null  object \n",
      " 23  Nr. of Doors                   15707 non-null  object \n",
      " 24  Nr. of Seats                   15707 non-null  object \n",
      " 25  Model Code                     4939 non-null   object \n",
      " 26  Gearing Type                   15919 non-null  object \n",
      " 27  Displacement                   15423 non-null  object \n",
      " 28  Cylinders                      10239 non-null  object \n",
      " 29  Weight                         8945 non-null   object \n",
      " 30  Drive chain                    15919 non-null  object \n",
      " 31  Fuel                           15870 non-null  object \n",
      " 32  Consumption                    14013 non-null  object \n",
      " 33  CO2 Emission                   14111 non-null  object \n",
      " 34  Emission Class                 12898 non-null  object \n",
      " 35  \n",
      "Comfort & Convenience\n",
      "        14999 non-null  object \n",
      " 36  \n",
      "Entertainment & Media\n",
      "        14545 non-null  object \n",
      " 37  \n",
      "Extras\n",
      "                       12957 non-null  object \n",
      " 38  \n",
      "Safety & Security\n",
      "            14937 non-null  object \n",
      " 39  description                    15919 non-null  object \n",
      " 40  Emission Label                 3985 non-null   object \n",
      " 41  Gears                          11207 non-null  object \n",
      " 42  Country version                7586 non-null   object \n",
      " 43  Electricity consumption        137 non-null    object \n",
      " 44  Last Service Date              566 non-null    object \n",
      " 45  Other Fuel Types               880 non-null    object \n",
      " 46  Availability                   635 non-null    object \n",
      " 47  Last Timing Belt Service Date  16 non-null     object \n",
      " 48  Available from                 272 non-null    object \n",
      " 49  combined_fuel                  13600 non-null  object \n",
      " 50  city_fuel                      12971 non-null  object \n",
      " 51  country_fuel                   10084 non-null  object \n",
      "dtypes: float64(1), int64(1), object(50)\n",
      "memory usage: 6.3+ MB\n"
     ]
    }
   ],
   "source": [
    "df.info()"
   ]
  },
  {
   "cell_type": "code",
   "execution_count": 48,
   "id": "ec82af65",
   "metadata": {},
   "outputs": [
    {
     "data": {
      "text/html": [
       "<div>\n",
       "<style scoped>\n",
       "    .dataframe tbody tr th:only-of-type {\n",
       "        vertical-align: middle;\n",
       "    }\n",
       "\n",
       "    .dataframe tbody tr th {\n",
       "        vertical-align: top;\n",
       "    }\n",
       "\n",
       "    .dataframe thead th {\n",
       "        text-align: right;\n",
       "    }\n",
       "</style>\n",
       "<table border=\"1\" class=\"dataframe\">\n",
       "  <thead>\n",
       "    <tr style=\"text-align: right;\">\n",
       "      <th></th>\n",
       "      <th>price</th>\n",
       "      <th>hp</th>\n",
       "    </tr>\n",
       "  </thead>\n",
       "  <tbody>\n",
       "    <tr>\n",
       "      <th>count</th>\n",
       "      <td>15919.000000</td>\n",
       "      <td>15831.000000</td>\n",
       "    </tr>\n",
       "    <tr>\n",
       "      <th>mean</th>\n",
       "      <td>18019.896727</td>\n",
       "      <td>88.367696</td>\n",
       "    </tr>\n",
       "    <tr>\n",
       "      <th>std</th>\n",
       "      <td>7386.169409</td>\n",
       "      <td>26.835135</td>\n",
       "    </tr>\n",
       "    <tr>\n",
       "      <th>min</th>\n",
       "      <td>13.000000</td>\n",
       "      <td>1.000000</td>\n",
       "    </tr>\n",
       "    <tr>\n",
       "      <th>25%</th>\n",
       "      <td>12850.000000</td>\n",
       "      <td>66.000000</td>\n",
       "    </tr>\n",
       "    <tr>\n",
       "      <th>50%</th>\n",
       "      <td>16900.000000</td>\n",
       "      <td>85.000000</td>\n",
       "    </tr>\n",
       "    <tr>\n",
       "      <th>75%</th>\n",
       "      <td>21900.000000</td>\n",
       "      <td>101.000000</td>\n",
       "    </tr>\n",
       "    <tr>\n",
       "      <th>max</th>\n",
       "      <td>74600.000000</td>\n",
       "      <td>294.000000</td>\n",
       "    </tr>\n",
       "  </tbody>\n",
       "</table>\n",
       "</div>"
      ],
      "text/plain": [
       "              price            hp\n",
       "count  15919.000000  15831.000000\n",
       "mean   18019.896727     88.367696\n",
       "std     7386.169409     26.835135\n",
       "min       13.000000      1.000000\n",
       "25%    12850.000000     66.000000\n",
       "50%    16900.000000     85.000000\n",
       "75%    21900.000000    101.000000\n",
       "max    74600.000000    294.000000"
      ]
     },
     "execution_count": 48,
     "metadata": {},
     "output_type": "execute_result"
    }
   ],
   "source": [
    "df.describe()"
   ]
  },
  {
   "cell_type": "code",
   "execution_count": null,
   "id": "cdbc5ddd",
   "metadata": {},
   "outputs": [],
   "source": []
  }
 ],
 "metadata": {
  "kernelspec": {
   "display_name": "Python 3",
   "language": "python",
   "name": "python3"
  },
  "language_info": {
   "codemirror_mode": {
    "name": "ipython",
    "version": 3
   },
   "file_extension": ".py",
   "mimetype": "text/x-python",
   "name": "python",
   "nbconvert_exporter": "python",
   "pygments_lexer": "ipython3",
   "version": "3.8.8"
  }
 },
 "nbformat": 4,
 "nbformat_minor": 5
}
